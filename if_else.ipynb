{
 "cells": [
  {
   "cell_type": "markdown",
   "id": "0617dcff",
   "metadata": {},
   "source": [
    "# Conditional statements"
   ]
  },
  {
   "cell_type": "markdown",
   "id": "f8b3694a",
   "metadata": {},
   "source": [
    "- conditional statements are used to execute the code based on some condition\n",
    "- assume a statement\n",
    "    - if rain come i will stay at hostel\n",
    "- if it is not raining i will go to playground to play cricket\n",
    "- if rain comes i will stay at hostel otherwise i will go to ground but if omkar sir call go to class\n",
    "- if rain come i will stay at hostel else i will go to play cricket\n",
    "- we use\n",
    "- if\n",
    "- if-else\n",
    "- if-elif-elif\n"
   ]
  },
  {
   "cell_type": "code",
   "execution_count": 3,
   "id": "7297af1f",
   "metadata": {},
   "outputs": [],
   "source": [
    "#case-1\n",
    "if<condition>:\n",
    "    #write your code here\n",
    "    #whenever the condition is true\n",
    "    #the python will go inside the if area then the line will be exectued"
   ]
  },
  {
   "cell_type": "code",
   "execution_count": 4,
   "id": "2a2e8fae",
   "metadata": {},
   "outputs": [
    {
     "name": "stdout",
     "output_type": "stream",
     "text": [
      "False\n",
      "False\n",
      "True\n",
      "True\n",
      "True\n"
     ]
    }
   ],
   "source": [
    "num=10\n",
    "print(num == 100)\n",
    "\n",
    "print(num>=100)\n",
    "print(num<=10)\n",
    "print(num==10)\n",
    "print(num!=20)"
   ]
  },
  {
   "cell_type": "code",
   "execution_count": 5,
   "id": "79a0022c",
   "metadata": {},
   "outputs": [
    {
     "name": "stdout",
     "output_type": "stream",
     "text": [
      "hello\n"
     ]
    }
   ],
   "source": [
    "if 100>10:\n",
    "    print(\"hello\")\n",
    "#step1 :- 100>10 true then it will go to step2 if 100<10 then it is false so it will not go to next step\n",
    "#step2 :- print statement will work the it will print hello"
   ]
  },
  {
   "cell_type": "markdown",
   "id": "0a08f819",
   "metadata": {},
   "source": [
    "**mistake-1**"
   ]
  },
  {
   "cell_type": "markdown",
   "id": "79608871",
   "metadata": {},
   "source": [
    "- indentation error\n",
    "- whenever a line staet with keyword at last : we will be there\n",
    "- whenever : there the we have indentation"
   ]
  },
  {
   "cell_type": "markdown",
   "id": "832b1600",
   "metadata": {},
   "source": [
    "# case-2 : if-else"
   ]
  },
  {
   "cell_type": "markdown",
   "id": "7a0818c9",
   "metadata": {},
   "source": [
    "- if condition is True then if statements will execute\n",
    "\n",
    "- if condition is False then else statements will execute\n",
    "\n",
    "- one condition two outputs\n",
    "\n",
    "- if needs condition but not else"
   ]
  },
  {
   "cell_type": "code",
   "execution_count": null,
   "id": "93b0cba2",
   "metadata": {},
   "outputs": [],
   "source": [
    "#syntax\n",
    "if<condition>:\n",
    "    <write your code here>\n",
    "else:\n",
    "    <write your code here>"
   ]
  },
  {
   "cell_type": "code",
   "execution_count": 6,
   "id": "28230475",
   "metadata": {},
   "outputs": [
    {
     "name": "stdout",
     "output_type": "stream",
     "text": [
      "hello\n"
     ]
    }
   ],
   "source": [
    "print(\"hello\")"
   ]
  },
  {
   "cell_type": "code",
   "execution_count": 7,
   "id": "6c553ca3",
   "metadata": {},
   "outputs": [
    {
     "name": "stdout",
     "output_type": "stream",
     "text": [
      "HI\n"
     ]
    }
   ],
   "source": [
    "friend='yes'\n",
    "if friend=='yes':\n",
    "    print(\"HI\")"
   ]
  },
  {
   "cell_type": "code",
   "execution_count": 8,
   "id": "3de6034e",
   "metadata": {},
   "outputs": [
    {
     "name": "stdout",
     "output_type": "stream",
     "text": [
      "Bye\n"
     ]
    }
   ],
   "source": [
    "friend='No'\n",
    "if friend=='yes':\n",
    "    print(\"HI\")\n",
    "else:\n",
    "    print(\"Bye\")"
   ]
  },
  {
   "cell_type": "code",
   "execution_count": 9,
   "id": "7660ca0f",
   "metadata": {},
   "outputs": [
    {
     "name": "stdout",
     "output_type": "stream",
     "text": [
      "Positive number\n"
     ]
    }
   ],
   "source": [
    "if 100>0:\n",
    "    print(\"Positive number\")\n",
    "else:\n",
    "    print(\"Negative number\")"
   ]
  },
  {
   "cell_type": "code",
   "execution_count": 10,
   "id": "e4e31c47",
   "metadata": {},
   "outputs": [
    {
     "name": "stdout",
     "output_type": "stream",
     "text": [
      "Positive number\n"
     ]
    }
   ],
   "source": [
    "n=100\n",
    "if n>0:\n",
    "    print(\"Positive number\")\n",
    "else:\n",
    "    print(\"Negative number\")"
   ]
  },
  {
   "cell_type": "code",
   "execution_count": 12,
   "id": "3cbfed2f",
   "metadata": {},
   "outputs": [
    {
     "name": "stdout",
     "output_type": "stream",
     "text": [
      "Enter any number-10\n",
      "Negative number\n"
     ]
    }
   ],
   "source": [
    "n=eval(input(\"Enter any number\"))\n",
    "if n>0:\n",
    "    print(\"Positive number\")\n",
    "else:\n",
    "    print(\"Negative number\")"
   ]
  },
  {
   "cell_type": "code",
   "execution_count": 16,
   "id": "28f6d296",
   "metadata": {},
   "outputs": [
    {
     "name": "stdout",
     "output_type": "stream",
     "text": [
      "-58 is a Negative number\n"
     ]
    }
   ],
   "source": [
    "import random\n",
    "n=random.randint(-100,100)\n",
    "if n>0:\n",
    "    print(f\"{n} is a Positive number\")\n",
    "else:\n",
    "    print(f\"{n} is a Negative number\")"
   ]
  },
  {
   "cell_type": "code",
   "execution_count": 19,
   "id": "a474fbf1",
   "metadata": {},
   "outputs": [
    {
     "ename": "SyntaxError",
     "evalue": "invalid syntax (2512421783.py, line 6)",
     "output_type": "error",
     "traceback": [
      "\u001b[1;36m  Cell \u001b[1;32mIn[19], line 6\u001b[1;36m\u001b[0m\n\u001b[1;33m    else:\u001b[0m\n\u001b[1;37m    ^\u001b[0m\n\u001b[1;31mSyntaxError\u001b[0m\u001b[1;31m:\u001b[0m invalid syntax\n"
     ]
    }
   ],
   "source": [
    "print(\"Hi, How are you\")\n",
    "if 100>0:\n",
    "    print(\"Positive number\")\n",
    "    print(\"if condition is true\")\n",
    "print(\"This is the middle of if and else so error will be occured\")\n",
    "else:\n",
    "    print(\"Negative number\")"
   ]
  },
  {
   "cell_type": "code",
   "execution_count": 20,
   "id": "59b22e16",
   "metadata": {},
   "outputs": [],
   "source": [
    "#wap ask the user to enter 2 numbers \n",
    "#find the greatest number\n",
    "\n",
    "#idea\n",
    "#n1=eval(input())\n",
    "#n2=eval(input())\n",
    "#if<cond>:\n",
    "#    print()\n",
    "#else:\n",
    "#    print()"
   ]
  },
  {
   "cell_type": "code",
   "execution_count": 21,
   "id": "235ef045",
   "metadata": {},
   "outputs": [
    {
     "name": "stdout",
     "output_type": "stream",
     "text": [
      "Enter a number20\n",
      "Enter a number30\n",
      "30 is greater\n"
     ]
    }
   ],
   "source": [
    "n1=eval(input(\"Enter a number\"))\n",
    "n2=eval(input(\"Enter a number\"))\n",
    "if n1>n2:\n",
    "    print(f\"{n1} is greater\")\n",
    "else:\n",
    "    print(f\"{n2} is greater\")"
   ]
  },
  {
   "cell_type": "code",
   "execution_count": 23,
   "id": "c3df645d",
   "metadata": {},
   "outputs": [
    {
     "name": "stdout",
     "output_type": "stream",
     "text": [
      "n2:30 is greater.\n"
     ]
    }
   ],
   "source": [
    "import random\n",
    "n1=random.randint(1,100)\n",
    "n2=random.randint(1,100)\n",
    "if n1>n2:\n",
    "    print(f\"n1:{n1} is greater.\")\n",
    "else:\n",
    "    print(f\"n2:{n2} is greater.\")"
   ]
  },
  {
   "cell_type": "code",
   "execution_count": 25,
   "id": "91f5ba81",
   "metadata": {},
   "outputs": [],
   "source": [
    "#wap ask the user enter distance\n",
    "#if distance greater than 25km\n",
    "#then ask the charge per km\n",
    "#then calculate total charge\n",
    "#otherwise print free ride"
   ]
  },
  {
   "cell_type": "code",
   "execution_count": 29,
   "id": "44edbfd3",
   "metadata": {},
   "outputs": [
    {
     "name": "stdout",
     "output_type": "stream",
     "text": [
      "Enter the distance in km:170\n",
      "Enter the charge per km:2\n",
      "The charge per km is 2\n",
      "The total charge for 170 distance is : 340\n"
     ]
    }
   ],
   "source": [
    "n=eval(input(\"Enter the distance in km:\"))\n",
    "if n>25:\n",
    "    charge=eval(input(\"Enter the charge per km:\"))\n",
    "    total_charge=n*charge\n",
    "    print(f\"The charge per km is {charge}\")\n",
    "    print(f\"The total charge for {n} distance is : {total_charge}\")\n",
    "else:\n",
    "    print(\"Your ride is free\")"
   ]
  },
  {
   "cell_type": "code",
   "execution_count": 30,
   "id": "ecfd36a1",
   "metadata": {},
   "outputs": [],
   "source": [
    "#wap ask the user enter distance\n",
    "#Enter the free distance also(Assume that 25km)\n",
    "#if distance greater than 25km\n",
    "#then ask the charge per km\n",
    "#distance covered=the distance-free distance\n",
    "#then calculate total charge\n",
    "#otherwise print free ride"
   ]
  },
  {
   "cell_type": "code",
   "execution_count": 36,
   "id": "c1e8715e",
   "metadata": {},
   "outputs": [
    {
     "name": "stdout",
     "output_type": "stream",
     "text": [
      "Enter the distance in km:30\n",
      "Enter the free distance govt. has provided in km:25\n",
      "Enter the charge per km:10\n",
      "The charge per km is 10\n",
      "The total charge for 5km without govt. free distance of 25km : 50INR\n"
     ]
    }
   ],
   "source": [
    "n=eval(input(\"Enter the distance in km:\"))\n",
    "free=eval(input(\"Enter the free distance govt. has provided in km:\"))\n",
    "if n>free:\n",
    "    charge=eval(input(\"Enter the charge per km:\"))\n",
    "    actual_distance=n-free\n",
    "    total_charge=actual_distance*charge\n",
    "    print(f\"The charge per km is {charge}\")\n",
    "    print(f\"The total charge for {actual_distance}km without govt. free distance of {free}km : {total_charge}INR\")\n",
    "else:\n",
    "    print(\"Your ride is free\")"
   ]
  },
  {
   "cell_type": "code",
   "execution_count": 37,
   "id": "4fba2963",
   "metadata": {},
   "outputs": [],
   "source": [
    "#wap ask the user enter a number from keyboard n1\n",
    "#ask the user get a random number between 1,10 n2\n",
    "#if n1 equal to n2 print you won\n",
    "#otherwise print you lost"
   ]
  },
  {
   "cell_type": "code",
   "execution_count": 51,
   "id": "15d4ff22",
   "metadata": {},
   "outputs": [
    {
     "name": "stdout",
     "output_type": "stream",
     "text": [
      "Enter a number between 1 to 10:3\n",
      "You are unlucky :(\n"
     ]
    }
   ],
   "source": [
    "import random\n",
    "n1=eval(input(\"Enter a number between 1 to 10:\"))\n",
    "n2=random.randint(1,10)\n",
    "if n1==n2:\n",
    "    print(\"You are lucky :)\")\n",
    "else:\n",
    "    print(\"You are unlucky :(\")\n",
    "    "
   ]
  },
  {
   "cell_type": "code",
   "execution_count": 50,
   "id": "b9030e05",
   "metadata": {},
   "outputs": [
    {
     "name": "stdout",
     "output_type": "stream",
     "text": [
      "3\n",
      "Enter a number between 1 to 10:3\n",
      "You are lucky :)\n"
     ]
    }
   ],
   "source": [
    "import random\n",
    "n1=random.randint(1,10)\n",
    "print(n1)\n",
    "n2=eval(input(\"Enter a number between 1 to 10:\"))\n",
    "if n1==n2:\n",
    "    print(\"You are lucky :)\")\n",
    "else:\n",
    "    print(\"You are unlucky :(\")\n",
    "    "
   ]
  },
  {
   "cell_type": "code",
   "execution_count": 52,
   "id": "caaa9298",
   "metadata": {},
   "outputs": [],
   "source": [
    "#Course name= Data Science\n",
    "#institute name = Naresh IT\n",
    "\n",
    "# Ask the user enter course_name\n",
    "# user enter institute_name\n",
    "#if course_name equal to data_science and institute_name nareshIT\n",
    "#then print you are at safe place\n",
    "#otherwise\n",
    "#print khatam zindagi"
   ]
  },
  {
   "cell_type": "code",
   "execution_count": 56,
   "id": "bdc48ae1",
   "metadata": {},
   "outputs": [
    {
     "name": "stdout",
     "output_type": "stream",
     "text": [
      "Enter your Course Name:Data Science\n",
      "Enter the Institue name:Naresh IT\n",
      "You are at safe place\n"
     ]
    }
   ],
   "source": [
    "course_name=input(\"Enter your Course Name:\")\n",
    "inst_name=input(\"Enter the Institue name:\")\n",
    "if course_name=='Data Science' and inst_name=='Naresh IT':\n",
    "    print(\"You are at safe place\")\n",
    "else:\n",
    "    print(\"Khatam Zindagi re:\")"
   ]
  },
  {
   "cell_type": "code",
   "execution_count": 57,
   "id": "8aaea0d7",
   "metadata": {},
   "outputs": [
    {
     "name": "stdout",
     "output_type": "stream",
     "text": [
      "Enter your Course Name:Data Science\n",
      "Enter the Institue name:Udemy\n",
      "You are at safe place\n"
     ]
    }
   ],
   "source": [
    "course_name=input(\"Enter your Course Name:\")\n",
    "inst_name=input(\"Enter the Institue name:\")\n",
    "if course_name=='Data Science' or inst_name=='Naresh IT':\n",
    "    print(\"You are at safe place\")\n",
    "else:\n",
    "    print(\"Khatam Zindagi re:\")"
   ]
  },
  {
   "cell_type": "code",
   "execution_count": 60,
   "id": "98a33f55",
   "metadata": {},
   "outputs": [
    {
     "name": "stdout",
     "output_type": "stream",
     "text": [
      "Enter your Course Name:Data Science\n",
      "Enter the Institue name:XYZ\n",
      "Khatam Zindagi re\n"
     ]
    }
   ],
   "source": [
    "course_name=input(\"Enter your Course Name:\")\n",
    "inst_name=input(\"Enter the Institue name:\")\n",
    "if course_name=='Data Science' and inst_name=='Naresh IT':\n",
    "    print(\"You are at safe place\")\n",
    "else:\n",
    "    print(\"Khatam Zindagi re\")"
   ]
  },
  {
   "cell_type": "code",
   "execution_count": 61,
   "id": "61b697e2",
   "metadata": {},
   "outputs": [
    {
     "data": {
      "text/plain": [
       "'data science'"
      ]
     },
     "execution_count": 61,
     "metadata": {},
     "output_type": "execute_result"
    }
   ],
   "source": [
    "'Data Science'.lower()"
   ]
  },
  {
   "cell_type": "code",
   "execution_count": 62,
   "id": "718e43e9",
   "metadata": {},
   "outputs": [],
   "source": [
    "#even-odd\n",
    "#ask the user enter a number\n",
    "#print it is even or odd"
   ]
  },
  {
   "cell_type": "code",
   "execution_count": 64,
   "id": "c4f2c4a5",
   "metadata": {},
   "outputs": [
    {
     "name": "stdout",
     "output_type": "stream",
     "text": [
      "Enter a number5\n",
      "Odd number\n"
     ]
    }
   ],
   "source": [
    "n1=eval(input(\"Enter a number\"))\n",
    "if n1%2==0:\n",
    "    print(\"Even number\")\n",
    "else:\n",
    "    print(\"Odd number\")"
   ]
  },
  {
   "cell_type": "code",
   "execution_count": null,
   "id": "62a1996b",
   "metadata": {},
   "outputs": [],
   "source": []
  }
 ],
 "metadata": {
  "kernelspec": {
   "display_name": "Python 3 (ipykernel)",
   "language": "python",
   "name": "python3"
  },
  "language_info": {
   "codemirror_mode": {
    "name": "ipython",
    "version": 3
   },
   "file_extension": ".py",
   "mimetype": "text/x-python",
   "name": "python",
   "nbconvert_exporter": "python",
   "pygments_lexer": "ipython3",
   "version": "3.11.5"
  }
 },
 "nbformat": 4,
 "nbformat_minor": 5
}
