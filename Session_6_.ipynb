{
 "cells": [
  {
   "cell_type": "code",
   "execution_count": 1,
   "id": "1f019a39-f716-415f-9149-56a67058fe92",
   "metadata": {},
   "outputs": [
    {
     "data": {
      "text/plain": [
       "20"
      ]
     },
     "execution_count": 1,
     "metadata": {},
     "output_type": "execute_result"
    }
   ],
   "source": [
    "a=10\n",
    "b=20\n",
    "a\n",
    "b"
   ]
  },
  {
   "cell_type": "code",
   "execution_count": 2,
   "id": "a95e5d5b-5a67-41bb-ba37-f43e9f47e7ca",
   "metadata": {},
   "outputs": [
    {
     "name": "stdout",
     "output_type": "stream",
     "text": [
      "10\n",
      "20\n"
     ]
    }
   ],
   "source": [
    "a=10\n",
    "b=20\n",
    "print(a)\n",
    "print(20)\n"
   ]
  },
  {
   "cell_type": "code",
   "execution_count": 3,
   "id": "b1223891-3fbd-4ecb-afad-57ea41dd6b9d",
   "metadata": {},
   "outputs": [
    {
     "name": "stdout",
     "output_type": "stream",
     "text": [
      "10\n",
      "20\n"
     ]
    }
   ],
   "source": [
    "print(10)\n",
    "print(20)"
   ]
  },
  {
   "cell_type": "code",
   "execution_count": 4,
   "id": "9c6502cc-305c-4645-9ccc-aff61b3db53f",
   "metadata": {},
   "outputs": [
    {
     "name": "stdout",
     "output_type": "stream",
     "text": [
      "10\n",
      "20\n"
     ]
    },
    {
     "data": {
      "text/plain": [
       "(None, None)"
      ]
     },
     "execution_count": 4,
     "metadata": {},
     "output_type": "execute_result"
    }
   ],
   "source": [
    "print(10),print(20)"
   ]
  },
  {
   "cell_type": "code",
   "execution_count": 5,
   "id": "787186e3-7744-4e73-8e3a-93371b0d5136",
   "metadata": {},
   "outputs": [
    {
     "data": {
      "text/plain": [
       "(10, 20)"
      ]
     },
     "execution_count": 5,
     "metadata": {},
     "output_type": "execute_result"
    }
   ],
   "source": [
    "10,20"
   ]
  },
  {
   "cell_type": "code",
   "execution_count": 6,
   "id": "15d2dc75-1297-47b5-8c08-2e42f0aaa3ce",
   "metadata": {},
   "outputs": [
    {
     "name": "stdout",
     "output_type": "stream",
     "text": [
      "10 20\n"
     ]
    }
   ],
   "source": [
    "print(a,b)"
   ]
  },
  {
   "cell_type": "code",
   "execution_count": 7,
   "id": "c525bfa2-8501-4e00-a72c-e64357d1720f",
   "metadata": {},
   "outputs": [
    {
     "name": "stdout",
     "output_type": "stream",
     "text": [
      "30 nareshit hyd\n"
     ]
    }
   ],
   "source": [
    "print(30,'nareshit','hyd')\n",
    "# 3values "
   ]
  },
  {
   "cell_type": "code",
   "execution_count": 10,
   "id": "ec4f237d-70bd-4c10-a1ce-279d8d27f106",
   "metadata": {},
   "outputs": [
    {
     "name": "stdout",
     "output_type": "stream",
     "text": [
      "the addition of 100 and 200is 300\n",
      "the addition of num1 and num2 is 300\n",
      "the addition of 100 and 200 is 300\n"
     ]
    }
   ],
   "source": [
    "num1=100\n",
    "num2=200\n",
    "add=num1+num2\n",
    "# the addition of 100 and 200is 300\n",
    "\n",
    "print(\"the addition of 100 and 200is 300\")\n",
    "print(\"the addition of num1 and num2 is 300\")\n",
    "print(\"the addition of\",num1,\"and\",num2,\"is\",add)"
   ]
  },
  {
   "cell_type": "code",
   "execution_count": 13,
   "id": "6f0be04d-0423-4056-bd9c-b4c7105558e2",
   "metadata": {},
   "outputs": [
    {
     "name": "stdout",
     "output_type": "stream",
     "text": [
      "the age  21 21\n"
     ]
    }
   ],
   "source": [
    "age = 21\n",
    "print(\"the age \",age,\"21\")"
   ]
  },
  {
   "cell_type": "code",
   "execution_count": 16,
   "id": "941106be-6a57-4f33-a96c-6ba5342449ae",
   "metadata": {},
   "outputs": [
    {
     "name": "stdout",
     "output_type": "stream",
     "text": [
      "my name is python im 10 years old came from hyd\n"
     ]
    }
   ],
   "source": [
    "name=\"python\"\n",
    "age=10\n",
    "city=\"hyd\"\n",
    "print(\"my name is\",name,\"im\",age,\"years old came from\",city)\n",
    "# my name is python im 10 years old and came from hyd"
   ]
  },
  {
   "cell_type": "markdown",
   "id": "9985c3a8-1c7b-4239-bbd7-457b0564cf0d",
   "metadata": {},
   "source": [
    "# Format \n"
   ]
  },
  {
   "cell_type": "code",
   "execution_count": 17,
   "id": "46264d83-fb4e-4da6-9e65-27e61da46d8b",
   "metadata": {},
   "outputs": [
    {
     "name": "stdout",
     "output_type": "stream",
     "text": [
      "mu name is Hyd im 10 years old and came frompython\n"
     ]
    }
   ],
   "source": [
    "name=\"python\"\n",
    "age=10\n",
    "city=\"Hyd\"\n",
    "print(\"mu name is {} im {} years old and came from{}\".format(city,age,name))"
   ]
  },
  {
   "cell_type": "code",
   "execution_count": 18,
   "id": "bfab08b7-9c3b-4384-b22e-a260dc90bc6e",
   "metadata": {},
   "outputs": [
    {
     "name": "stdout",
     "output_type": "stream",
     "text": [
      "the addition of 1000 and 200 is1200and come from\n"
     ]
    }
   ],
   "source": [
    "num1=1000\n",
    "num2=200\n",
    "add=num1+num2\n",
    "# the addition of 100 and 200 is 300\n",
    "print(\"the addition of {} and {} is{}and come from\".format(num1,num2,add))"
   ]
  },
  {
   "cell_type": "markdown",
   "id": "fc4cfcf4-42c3-498d-a25c-579a11fd54aa",
   "metadata": {},
   "source": [
    "#### Find the avg of three num"
   ]
  },
  {
   "cell_type": "code",
   "execution_count": 20,
   "id": "95397252-eb91-486d-b8b3-8b6aaf1237f4",
   "metadata": {},
   "outputs": [
    {
     "name": "stdout",
     "output_type": "stream",
     "text": [
      "The average of 100 and 150and 200 is 150.0  \n"
     ]
    }
   ],
   "source": [
    "a=100\n",
    "b=150\n",
    "c=200\n",
    "avg=(a+c+b)/3\n",
    "print(\"The average of {} and {}and {} is {}  \".format(a,b,c,avg))"
   ]
  },
  {
   "cell_type": "code",
   "execution_count": 21,
   "id": "6b45931c-623f-4ff1-aa37-eab73da1ece6",
   "metadata": {},
   "outputs": [
    {
     "name": "stdout",
     "output_type": "stream",
     "text": [
      "the average of 1.5 and 10 and 5 is 5.5\n"
     ]
    }
   ],
   "source": [
    "a=1.5\n",
    "b=10\n",
    "c=5\n",
    "avg=(a+c+b)/3\n",
    "print(\"the average of {} and {} and {} is {}\".format(a,b,c,avg))"
   ]
  },
  {
   "cell_type": "code",
   "execution_count": 23,
   "id": "11ef9feb-69b3-4a7a-b6c1-7a01b6b39001",
   "metadata": {},
   "outputs": [
    {
     "name": "stdout",
     "output_type": "stream",
     "text": [
      "the addition of 100 and 200 is 300\n",
      "the addition of 100 and 200 is 300\n",
      "the addition of 100 and 200 is 300\n"
     ]
    }
   ],
   "source": [
    "num1=100\n",
    "num2=200\n",
    "add=num1+num2\n",
    "# the addition of 100 and is 300\n",
    "print(\"the addition of 100 and 200 is 300\")\n",
    "print (\"the addition of {} and {} is {}\".format(num1,num2,add))\n",
    "print(f\"the addition of {num1} and {num2} is {add}\")"
   ]
  },
  {
   "cell_type": "markdown",
   "id": "d119074c-d650-4c06-a742-f758256e22e6",
   "metadata": {},
   "source": [
    "### Round Function "
   ]
  },
  {
   "cell_type": "code",
   "execution_count": 24,
   "id": "f9a9a8fd-ffe6-411c-a9cb-919ad06e4b4d",
   "metadata": {},
   "outputs": [
    {
     "name": "stdout",
     "output_type": "stream",
     "text": [
      "150.0\n"
     ]
    }
   ],
   "source": [
    "a=100\n",
    "b=150\n",
    "c=200\n",
    "avg=(a+c+b)/3\n",
    "print(avg)"
   ]
  },
  {
   "cell_type": "code",
   "execution_count": null,
   "id": "24f0185d-02cd-48f5-b9f4-4ac840c9728b",
   "metadata": {},
   "outputs": [],
   "source": [
    "# print()\n",
    "# type ()\n",
    "# int ()\n",
    "# float ()\n",
    "# str ()\n",
    "\n",
    "# CTRL+A\n",
    "# CTRL+/\n",
    "# to comment the whole information "
   ]
  },
  {
   "cell_type": "code",
   "execution_count": 25,
   "id": "f783c56f-6931-43eb-bc10-20511afd4acf",
   "metadata": {},
   "outputs": [
    {
     "data": {
      "text/plain": [
       "10.77778"
      ]
     },
     "execution_count": 25,
     "metadata": {},
     "output_type": "execute_result"
    }
   ],
   "source": [
    "round(10.777777,5)"
   ]
  },
  {
   "cell_type": "code",
   "execution_count": 26,
   "id": "8d72cbf3-ed63-4a58-a818-a022ce78ad3f",
   "metadata": {},
   "outputs": [
    {
     "data": {
      "text/plain": [
       "10.78"
      ]
     },
     "execution_count": 26,
     "metadata": {},
     "output_type": "execute_result"
    }
   ],
   "source": [
    "round(10.7777,2)"
   ]
  },
  {
   "cell_type": "code",
   "execution_count": null,
   "id": "e1b6c644-26a4-46c2-840c-501fcb22a70f",
   "metadata": {},
   "outputs": [],
   "source": [
    "print(round(10.7777))\n",
    "print(round(10.7777,2))\n",
    "print"
   ]
  },
  {
   "cell_type": "markdown",
   "id": "9d4996f5-cbb3-4239-883f-40470064f6c4",
   "metadata": {},
   "source": [
    "### END "
   ]
  },
  {
   "cell_type": "code",
   "execution_count": 27,
   "id": "e1ef3bad-9987-42ad-b4d7-1f7652759e77",
   "metadata": {},
   "outputs": [
    {
     "name": "stdout",
     "output_type": "stream",
     "text": [
      "1020\n"
     ]
    }
   ],
   "source": [
    "print(10,end=\"\")\n",
    "print(20)"
   ]
  },
  {
   "cell_type": "code",
   "execution_count": 28,
   "id": "8a09c0fb-91ee-4f0c-8a3e-6cd694e4d49c",
   "metadata": {},
   "outputs": [
    {
     "name": "stdout",
     "output_type": "stream",
     "text": [
      "10 20 30\n"
     ]
    }
   ],
   "source": [
    "print(10,end=\" \")\n",
    "print(20,end=\" \")\n",
    "print(30)"
   ]
  },
  {
   "cell_type": "code",
   "execution_count": 30,
   "id": "2cc86ddb-1375-4757-aae1-4f055bef51af",
   "metadata": {},
   "outputs": [
    {
     "name": "stdout",
     "output_type": "stream",
     "text": [
      "hello how are you\n"
     ]
    }
   ],
   "source": [
    "print('hello',end=' ')\n",
    "print('how',end=' ')\n",
    "print('are',end=' ')\n",
    "print('you')"
   ]
  },
  {
   "cell_type": "code",
   "execution_count": null,
   "id": "8ba9e474-5e41-4531-ad8f-4f7e6c9a4a5e",
   "metadata": {},
   "outputs": [],
   "source": [
    "I have multiple vaues in a single print "
   ]
  },
  {
   "cell_type": "markdown",
   "id": "6d773423-35f4-48ce-aa8e-9097cd94213c",
   "metadata": {},
   "source": [
    "### Sep"
   ]
  },
  {
   "cell_type": "code",
   "execution_count": 31,
   "id": "51e22dd5-8972-417f-af10-9c255f81387c",
   "metadata": {},
   "outputs": [
    {
     "name": "stdout",
     "output_type": "stream",
     "text": [
      "10 20 30\n"
     ]
    }
   ],
   "source": [
    "print(10,20,30)\n",
    "# 10 ====> 20 =====> 30"
   ]
  },
  {
   "cell_type": "code",
   "execution_count": 32,
   "id": "3845e6d3-ee4a-4391-a9d2-8dfc7997219d",
   "metadata": {},
   "outputs": [
    {
     "name": "stdout",
     "output_type": "stream",
     "text": [
      "10=====>20=====>30\n"
     ]
    }
   ],
   "source": [
    "print(10,20,30,sep='=====>')"
   ]
  },
  {
   "cell_type": "markdown",
   "id": "87cfa69e-b6c8-487a-858d-512d26e43c39",
   "metadata": {},
   "source": [
    "- basic print ststement \n",
    "- we learn format method \n",
    "- we learn f string mrthod \n",
    "- we learn round \n",
    "- we learn end operator \n",
    "- we learn end operator"
   ]
  },
  {
   "cell_type": "markdown",
   "id": "57fd6684-90ba-438f-9c77-57e788c22517",
   "metadata": {},
   "source": [
    "#wap take the radidus of a circle calculate area of the circle \n",
    "#var: radidus  var: pi3.14\n",
    "#formula :pi*radius*radius\n",
    "#print the answer using f string and format\n",
    "\n",
    "#wap take the bredath and height of a right angle triangle \n",
    "#calculate area\n",
    "#var1 :bredath var2:height\n",
    "#formula : 0.5*breadth*height\n",
    "\n",
    "#wap take the bill amoun and tip amount \n",
    "#calculate total bill\n",
    "#varl: bill amount var2:Tip amount \n",
    "#formula \n",
    "\n",
    "#wap take the length and breadth of a rectangle area \n",
    "#var1:length var2: breadth \n",
    "#formula: lenght * breadth \n",
    " # Full from wap - write a program "
   ]
  },
  {
   "cell_type": "code",
   "execution_count": 10,
   "id": "a5717a22-eec4-48e7-933c-4a71531a29e4",
   "metadata": {},
   "outputs": [
    {
     "name": "stdout",
     "output_type": "stream",
     "text": [
      "area of circle 314.0\n",
      "area of circlr 314.0\n"
     ]
    }
   ],
   "source": [
    " radius = 10\n",
    " pi = 3.14\n",
    "area =(pi*radius*radius)\n",
    "print(\"area of circle {}\".format(area))\n",
    "print(f\"area of circlr {area}\")\n",
    "\n",
    "# wap take the radidus of a circle calculate area of the circle \n",
    "# var: radidus  var: pi3.14\n",
    "# formula :pi*radius*radius\n",
    "# print the answer using f string and format"
   ]
  },
  {
   "cell_type": "code",
   "execution_count": 12,
   "id": "69ebc7bf-1ba1-4dc5-9f02-e7916f501368",
   "metadata": {},
   "outputs": [
    {
     "name": "stdout",
     "output_type": "stream",
     "text": [
      "calculate  the area of tringle 16.0 \n",
      "calculate the area of tringle 16.0\n"
     ]
    }
   ],
   "source": [
    " breadth = 4\n",
    " height = 8\n",
    " area =(0.5*breadth*height)\n",
    " print(\"calculate  the area of tringle {} \".format(area))\n",
    " print(f\"calculate the area of tringle {area}\")\n",
    "\n",
    "# wap take the bredath and height of a right angle triangle \n",
    "# calculate area\n",
    "# var1 :bredath var2:height\n",
    "# formula : 0.5*breadth*height"
   ]
  },
  {
   "cell_type": "code",
   "execution_count": 1,
   "id": "377690f1-17e2-443e-b518-fac7f7b34f07",
   "metadata": {},
   "outputs": [
    {
     "name": "stdin",
     "output_type": "stream",
     "text": [
      "area of right angle triangle= 50\n",
      "breadth of right angle triangle= 100\n"
     ]
    },
    {
     "name": "stdout",
     "output_type": "stream",
     "text": [
      "height of triangle:50.0100.00.25\n"
     ]
    }
   ],
   "source": [
    "a = float(input('area of right angle triangle=' ))\n",
    "b = float(input('breadth of right angle triangle='))\n",
    "h = a/(2*b)\n",
    "print('height of triangle:{}{}{}'.format( a,b,h))"
   ]
  },
  {
   "cell_type": "code",
   "execution_count": 27,
   "id": "e4cb777e-f43b-4901-ae06-cfc7dbe403ee",
   "metadata": {},
   "outputs": [
    {
     "name": "stdout",
     "output_type": "stream",
     "text": [
      "calculate the area of rectangle 300\n",
      "calculate the area of rectangle 300\n"
     ]
    }
   ],
   "source": [
    "# wap take the length and breadth of a rectangle area \n",
    "# var1:length var2: breadth \n",
    "# formula: lenght * breadth \n",
    "\n",
    "length= 15\n",
    "breadth = 20\n",
    "area = (length* breadth)\n",
    "print(\"calculate the area of rectangle {}\".format(area))\n",
    "print(f\"calculate the area of rectangle {area}\")"
   ]
  },
  {
   "cell_type": "code",
   "execution_count": 29,
   "id": "5ae13f0e-19e0-4445-818f-bad284f80bcd",
   "metadata": {},
   "outputs": [
    {
     "name": "stdout",
     "output_type": "stream",
     "text": [
      "calculate total bill 1050\n",
      "calculate total bill 1050\n"
     ]
    }
   ],
   "source": [
    "#wap take the bill amoun and tip amount \n",
    "#calculate total bill\n",
    "#varl: bill amount var2:Tip amount \n",
    "#formula \n",
    "\n",
    "bill=1000\n",
    "tip =50\n",
    "total =bill+tip\n",
    "print(\"calculate total bill {}\".format(total))\n",
    "print(f\"calculate total bill {total}\")"
   ]
  },
  {
   "cell_type": "code",
   "execution_count": 30,
   "id": "bb2953b1-5322-4ae8-9a1f-f09f45f454ec",
   "metadata": {},
   "outputs": [
    {
     "ename": "SyntaxError",
     "evalue": "unterminated string literal (detected at line 1) (811436471.py, line 1)",
     "output_type": "error",
     "traceback": [
      "\u001b[1;36m  Cell \u001b[1;32mIn[30], line 1\u001b[1;36m\u001b[0m\n\u001b[1;33m    print(\"fff)\u001b[0m\n\u001b[1;37m          ^\u001b[0m\n\u001b[1;31mSyntaxError\u001b[0m\u001b[1;31m:\u001b[0m unterminated string literal (detected at line 1)\n"
     ]
    }
   ],
   "source": [
    "print(\"fff)"
   ]
  },
  {
   "cell_type": "code",
   "execution_count": 65,
   "id": "2e09d680-6498-403c-90fa-1e4d0866bc42",
   "metadata": {},
   "outputs": [
    {
     "ename": "NameError",
     "evalue": "name 'name2' is not defined",
     "output_type": "error",
     "traceback": [
      "\u001b[1;31m---------------------------------------------------------------------------\u001b[0m",
      "\u001b[1;31mNameError\u001b[0m                                 Traceback (most recent call last)",
      "Cell \u001b[1;32mIn[65], line 2\u001b[0m\n\u001b[0;32m      1\u001b[0m name \u001b[38;5;241m=\u001b[39m \u001b[38;5;124m\"\u001b[39m\u001b[38;5;124maman\u001b[39m\u001b[38;5;124m\"\u001b[39m\n\u001b[1;32m----> 2\u001b[0m \u001b[38;5;28mprint\u001b[39m(\u001b[43mname2\u001b[49m)\n",
      "\u001b[1;31mNameError\u001b[0m: name 'name2' is not defined"
     ]
    }
   ],
   "source": [
    "name = \"aman\"\n",
    "print(name2)"
   ]
  },
  {
   "cell_type": "code",
   "execution_count": 37,
   "id": "d9bb7427-e73a-43d2-92aa-e1f888849e44",
   "metadata": {},
   "outputs": [
    {
     "ename": "IndentationError",
     "evalue": "expected an indented block after 'if' statement on line 1 (3122172002.py, line 3)",
     "output_type": "error",
     "traceback": [
      "\u001b[1;36m  Cell \u001b[1;32mIn[37], line 3\u001b[1;36m\u001b[0m\n\u001b[1;33m    dfdf\u001b[0m\n\u001b[1;37m    ^\u001b[0m\n\u001b[1;31mIndentationError\u001b[0m\u001b[1;31m:\u001b[0m expected an indented block after 'if' statement on line 1\n"
     ]
    }
   ],
   "source": [
    "if True:\n",
    "    \n",
    "dfdf"
   ]
  },
  {
   "cell_type": "code",
   "execution_count": 38,
   "id": "d48ea094-5641-4b7e-9d4f-1ac045368177",
   "metadata": {},
   "outputs": [
    {
     "ename": "IndexError",
     "evalue": "list index out of range",
     "output_type": "error",
     "traceback": [
      "\u001b[1;31m---------------------------------------------------------------------------\u001b[0m",
      "\u001b[1;31mIndexError\u001b[0m                                Traceback (most recent call last)",
      "Cell \u001b[1;32mIn[38], line 2\u001b[0m\n\u001b[0;32m      1\u001b[0m list1 \u001b[38;5;241m=\u001b[39m [\u001b[38;5;241m1\u001b[39m,\u001b[38;5;241m2\u001b[39m]\n\u001b[1;32m----> 2\u001b[0m \u001b[43mlist1\u001b[49m\u001b[43m[\u001b[49m\u001b[38;5;241;43m3\u001b[39;49m\u001b[43m]\u001b[49m\n",
      "\u001b[1;31mIndexError\u001b[0m: list index out of range"
     ]
    }
   ],
   "source": [
    "list1 = [1,2]\n",
    "list1[3]"
   ]
  },
  {
   "cell_type": "code",
   "execution_count": 60,
   "id": "0638e249-3fe4-4801-981e-27ad2fd9e34f",
   "metadata": {},
   "outputs": [
    {
     "ename": "ModuleNotFoundError",
     "evalue": "No module named 'rando'",
     "output_type": "error",
     "traceback": [
      "\u001b[1;31m---------------------------------------------------------------------------\u001b[0m",
      "\u001b[1;31mModuleNotFoundError\u001b[0m                       Traceback (most recent call last)",
      "Cell \u001b[1;32mIn[60], line 2\u001b[0m\n\u001b[0;32m      1\u001b[0m \u001b[38;5;28;01mimport\u001b[39;00m \u001b[38;5;21;01mmath\u001b[39;00m\n\u001b[1;32m----> 2\u001b[0m \u001b[38;5;28;01mimport\u001b[39;00m \u001b[38;5;21;01mrando\u001b[39;00m\n\u001b[0;32m      3\u001b[0m random\u001b[38;5;241m.\u001b[39mrandint(\u001b[38;5;241m1\u001b[39m,\u001b[38;5;241m7\u001b[39m)\n",
      "\u001b[1;31mModuleNotFoundError\u001b[0m: No module named 'rando'"
     ]
    }
   ],
   "source": [
    "import math\n",
    "import rando\n",
    "random.randint(1,7)"
   ]
  },
  {
   "cell_type": "code",
   "execution_count": 44,
   "id": "f6b0283e-94d2-4ff7-a8e0-55f175a8ea9e",
   "metadata": {},
   "outputs": [
    {
     "ename": "TypeError",
     "evalue": "can only concatenate str (not \"int\") to str",
     "output_type": "error",
     "traceback": [
      "\u001b[1;31m---------------------------------------------------------------------------\u001b[0m",
      "\u001b[1;31mTypeError\u001b[0m                                 Traceback (most recent call last)",
      "Cell \u001b[1;32mIn[44], line 4\u001b[0m\n\u001b[0;32m      2\u001b[0m str2 \u001b[38;5;241m=\u001b[39m \u001b[38;5;124m\"\u001b[39m\u001b[38;5;124mkumar\u001b[39m\u001b[38;5;124m\"\u001b[39m\n\u001b[0;32m      3\u001b[0m str3 \u001b[38;5;241m=\u001b[39m \u001b[38;5;241m6\u001b[39m\n\u001b[1;32m----> 4\u001b[0m \u001b[38;5;28mprint\u001b[39m(\u001b[43mstr1\u001b[49m\u001b[38;5;241;43m+\u001b[39;49m\u001b[43mstr2\u001b[49m\u001b[38;5;241;43m+\u001b[39;49m\u001b[43mstr3\u001b[49m)\n",
      "\u001b[1;31mTypeError\u001b[0m: can only concatenate str (not \"int\") to str"
     ]
    }
   ],
   "source": [
    "str1 = \"aman\"\n",
    "str2 = \"kumar\"\n",
    "str3 = 6\n",
    "print(str1+str2+str3)"
   ]
  },
  {
   "cell_type": "code",
   "execution_count": null,
   "id": "9b609745-28c1-40d2-bee6-a4aa207a477d",
   "metadata": {},
   "outputs": [],
   "source": [
    "name error, syntax error, type error"
   ]
  },
  {
   "cell_type": "code",
   "execution_count": null,
   "id": "6dd074f3-4c85-4be8-9089-3874362d7f3e",
   "metadata": {},
   "outputs": [],
   "source": [
    "**input**\n",
    "- in avbove we  provide the value \n",
    "- input is the inbuilt fuction \n",
    "-"
   ]
  },
  {
   "cell_type": "code",
   "execution_count": 2,
   "id": "b4377b43-be05-494c-a257-f48d264d595b",
   "metadata": {},
   "outputs": [
    {
     "data": {
      "text/plain": [
       "<bound method Kernel.raw_input of <ipykernel.ipkernel.IPythonKernel object at 0x0000019C9906F5C0>>"
      ]
     },
     "execution_count": 2,
     "metadata": {},
     "output_type": "execute_result"
    }
   ],
   "source": [
    "input"
   ]
  },
  {
   "cell_type": "markdown",
   "id": "7bf735fc-d0a4-446e-83b1-f755ffcfe69c",
   "metadata": {},
   "source": [
    "**note:whenerver if we see bound method or function which indicate we forget the bracket**"
   ]
  },
  {
   "cell_type": "code",
   "execution_count": 3,
   "id": "97255e3b-7d2f-4303-be98-c382153422f0",
   "metadata": {},
   "outputs": [
    {
     "name": "stdin",
     "output_type": "stream",
     "text": [
      " 100\n"
     ]
    },
    {
     "data": {
      "text/plain": [
       "'100'"
      ]
     },
     "execution_count": 3,
     "metadata": {},
     "output_type": "execute_result"
    }
   ],
   "source": [
    "input()\n"
   ]
  },
  {
   "cell_type": "code",
   "execution_count": 4,
   "id": "255a3af2-250c-4e35-b8f5-86c382279ae3",
   "metadata": {},
   "outputs": [
    {
     "name": "stdin",
     "output_type": "stream",
     "text": [
      " python\n"
     ]
    },
    {
     "data": {
      "text/plain": [
       "'python'"
      ]
     },
     "execution_count": 4,
     "metadata": {},
     "output_type": "execute_result"
    }
   ],
   "source": [
    "input()"
   ]
  },
  {
   "cell_type": "code",
   "execution_count": 5,
   "id": "897551f4-2659-4076-afed-8aee0e091031",
   "metadata": {},
   "outputs": [
    {
     "name": "stdin",
     "output_type": "stream",
     "text": [
      " nareshit\n"
     ]
    }
   ],
   "source": [
    "name =input()"
   ]
  },
  {
   "cell_type": "code",
   "execution_count": 6,
   "id": "b839873e-d501-44fb-98ea-742951c4e975",
   "metadata": {},
   "outputs": [
    {
     "data": {
      "text/plain": [
       "int"
      ]
     },
     "execution_count": 6,
     "metadata": {},
     "output_type": "execute_result"
    }
   ],
   "source": [
    "a=100\n",
    "type(a)\n"
   ]
  },
  {
   "cell_type": "code",
   "execution_count": 7,
   "id": "4dabac8c-99e7-42ec-9d57-06c92d991ea3",
   "metadata": {},
   "outputs": [
    {
     "name": "stdin",
     "output_type": "stream",
     "text": [
      " 100\n",
      " 200\n",
      " 300\n"
     ]
    }
   ],
   "source": [
    "n1=input() #n1='100'\n",
    "n2=input() #n2='200'\n",
    "n3=input() #n3='300'\n"
   ]
  },
  {
   "cell_type": "code",
   "execution_count": 9,
   "id": "3fe843d9-67c6-4263-a6cf-f20f63b7939f",
   "metadata": {},
   "outputs": [
    {
     "data": {
      "text/plain": [
       "('100', '200', '300')"
      ]
     },
     "execution_count": 9,
     "metadata": {},
     "output_type": "execute_result"
    }
   ],
   "source": [
    "n1,n2,n3\n"
   ]
  },
  {
   "cell_type": "code",
   "execution_count": 10,
   "id": "e05f1aac-d0f0-4491-a76a-46a337d25872",
   "metadata": {},
   "outputs": [
    {
     "name": "stdin",
     "output_type": "stream",
     "text": [
      "enter the number1: 100\n",
      "enter the number2: 200\n"
     ]
    }
   ],
   "source": [
    "n1=input(\"enter the number1:\")\n",
    "n2=input(\"enter the number2:\")"
   ]
  },
  {
   "cell_type": "code",
   "execution_count": 11,
   "id": "d55e77d9-cb61-4050-a2a9-6af00ac28238",
   "metadata": {},
   "outputs": [
    {
     "name": "stdin",
     "output_type": "stream",
     "text": [
      "enter the number1: 100\n",
      "enter the number2: 200\n"
     ]
    },
    {
     "data": {
      "text/plain": [
       "'100200'"
      ]
     },
     "execution_count": 11,
     "metadata": {},
     "output_type": "execute_result"
    }
   ],
   "source": [
    "n1=input(\"enter the number1:\")\n",
    "n2=input(\"enter the number2:\")\n",
    "n1+n2"
   ]
  },
  {
   "cell_type": "code",
   "execution_count": 12,
   "id": "94f9a934-6d6f-43f3-96ec-85d8e57e3d26",
   "metadata": {},
   "outputs": [
    {
     "name": "stdin",
     "output_type": "stream",
     "text": [
      "enter the number1: 500\n",
      "enter the number2: 600\n"
     ]
    },
    {
     "data": {
      "text/plain": [
       "'500600'"
      ]
     },
     "execution_count": 12,
     "metadata": {},
     "output_type": "execute_result"
    }
   ],
   "source": [
    "n1=input(\"enter the number1:\")\n",
    "n2=input(\"enter the number2:\")\n",
    "n1+n2 #'500'+'600'='500600'"
   ]
  },
  {
   "cell_type": "code",
   "execution_count": 17,
   "id": "52256cfe-812c-4cec-a2be-ae1297cba261",
   "metadata": {},
   "outputs": [
    {
     "name": "stdin",
     "output_type": "stream",
     "text": [
      "enter the number1: 500\n",
      "enter the number2: 600\n"
     ]
    },
    {
     "data": {
      "text/plain": [
       "1100"
      ]
     },
     "execution_count": 17,
     "metadata": {},
     "output_type": "execute_result"
    }
   ],
   "source": [
    "n1=int(input(\"enter the number1:\")) #n1=int('500')=500\n",
    "n2=int(input(\"enter the number2:\")) #n2=int('600')=600\n",
    "n1+n2 #'500'+'600'='1100'"
   ]
  },
  {
   "cell_type": "code",
   "execution_count": 18,
   "id": "2003dda6-3be9-4afb-ab4a-4089c98b730b",
   "metadata": {},
   "outputs": [
    {
     "name": "stdin",
     "output_type": "stream",
     "text": [
      "enter the number1: 500\n",
      "enter the number2: 600\n"
     ]
    },
    {
     "data": {
      "text/plain": [
       "1100"
      ]
     },
     "execution_count": 18,
     "metadata": {},
     "output_type": "execute_result"
    }
   ],
   "source": [
    "n1=input(\"enter the number1:\") #n1=int('500')=500\n",
    "n2=input(\"enter the number2:\") #n2=int('600')=600\n",
    "int(n1)+int(n2) #'500'+'600'='1100'"
   ]
  },
  {
   "cell_type": "code",
   "execution_count": null,
   "id": "fcbf9c80-78e6-44bf-bde3-89e11e5317d1",
   "metadata": {},
   "outputs": [],
   "source": [
    "n1=input\n",
    "n2=input"
   ]
  },
  {
   "cell_type": "markdown",
   "id": "a48b533e-f39f-40b2-9b4f-3d3477380623",
   "metadata": {},
   "source": [
    "### input values by default string type"
   ]
  },
  {
   "cell_type": "code",
   "execution_count": 19,
   "id": "8527936f-4ac6-4280-94d9-7e1fd416f0df",
   "metadata": {},
   "outputs": [
    {
     "data": {
      "text/plain": [
       "'appleisfruit'"
      ]
     },
     "execution_count": 19,
     "metadata": {},
     "output_type": "execute_result"
    }
   ],
   "source": [
    "str1='apple'\n",
    "str2='is'\n",
    "str3='fruit'\n",
    "str1+str2+str3"
   ]
  },
  {
   "cell_type": "code",
   "execution_count": 15,
   "id": "30059213-c473-49c7-a9e6-49f571e9f1ec",
   "metadata": {},
   "outputs": [
    {
     "name": "stdin",
     "output_type": "stream",
     "text": [
      "enter a string1: apple\n",
      "enter a string:  is\n",
      "enter a string3:  fruite\n"
     ]
    },
    {
     "data": {
      "text/plain": [
       "'apple is fruite'"
      ]
     },
     "execution_count": 15,
     "metadata": {},
     "output_type": "execute_result"
    }
   ],
   "source": [
    "str1=input(\"enter a string1:\")\n",
    "str2=input(\"enter a string:\")\n",
    "str3=input(\"enter a string3:\")\n",
    "str1+str2+str3"
   ]
  },
  {
   "cell_type": "markdown",
   "id": "3d414507-1235-4299-9c9f-8f0ca43697b0",
   "metadata": {},
   "source": [
    "**eval**\n",
    "- eval means evaluate\n",
    "- it is related to math family\n",
    "- which means it works only number represent as string \n",
    "- it will not works on english letters\n",
    "- eval will covrt the repective data type which is user enter \n",
    "- if user enter 10 in quotes it will convert into 10\n",
    "- if user enter 10.5 in quotes it will convert into 10.5"
   ]
  },
  {
   "cell_type": "code",
   "execution_count": 20,
   "id": "0b95090a-1a22-4518-aacc-e033d3e21613",
   "metadata": {},
   "outputs": [
    {
     "ename": "ValueError",
     "evalue": "invalid literal for int() with base 10: '10.5'",
     "output_type": "error",
     "traceback": [
      "\u001b[1;31m---------------------------------------------------------------------------\u001b[0m",
      "\u001b[1;31mValueError\u001b[0m                                Traceback (most recent call last)",
      "Cell \u001b[1;32mIn[20], line 2\u001b[0m\n\u001b[0;32m      1\u001b[0m \u001b[38;5;28mint\u001b[39m(\u001b[38;5;124m'\u001b[39m\u001b[38;5;124m10\u001b[39m\u001b[38;5;124m'\u001b[39m) \u001b[38;5;66;03m#10\u001b[39;00m\n\u001b[1;32m----> 2\u001b[0m \u001b[38;5;28;43mint\u001b[39;49m\u001b[43m(\u001b[49m\u001b[38;5;124;43m'\u001b[39;49m\u001b[38;5;124;43m10.5\u001b[39;49m\u001b[38;5;124;43m'\u001b[39;49m\u001b[43m)\u001b[49m \u001b[38;5;66;03m#error\u001b[39;00m\n\u001b[0;32m      5\u001b[0m \u001b[38;5;28mfloat\u001b[39m(\u001b[38;5;124m'\u001b[39m\u001b[38;5;124m10\u001b[39m\u001b[38;5;124m'\u001b[39m)\n\u001b[0;32m      6\u001b[0m \u001b[38;5;28mfloat\u001b[39m(\u001b[38;5;124m'\u001b[39m\u001b[38;5;124m10.5\u001b[39m\u001b[38;5;124m'\u001b[39m)\n",
      "\u001b[1;31mValueError\u001b[0m: invalid literal for int() with base 10: '10.5'"
     ]
    }
   ],
   "source": [
    "int('10') #10\n",
    "int('10.5') #error\n",
    "\n",
    "\n",
    "float('10') \n",
    "float('10.5')"
   ]
  },
  {
   "cell_type": "code",
   "execution_count": 22,
   "id": "3c14d1cc-6508-4355-87b4-d0b7a2609c04",
   "metadata": {},
   "outputs": [
    {
     "name": "stdin",
     "output_type": "stream",
     "text": [
      "enter the number1: 10\n",
      "enter the number2: 20.5\n"
     ]
    },
    {
     "data": {
      "text/plain": [
       "30.5"
      ]
     },
     "execution_count": 22,
     "metadata": {},
     "output_type": "execute_result"
    }
   ],
   "source": [
    "n1=input(\"enter the number1:\") \n",
    "n2=input(\"enter the number2:\") \n",
    "eval(n1)+eval(n2) "
   ]
  },
  {
   "cell_type": "markdown",
   "id": "3b17b928-962d-4df8-966a-74b2e75f4489",
   "metadata": {},
   "source": [
    "# Assignment "
   ]
  },
  {
   "cell_type": "code",
   "execution_count": 27,
   "id": "1b95c635-18a3-47e2-a826-ef71a4684609",
   "metadata": {},
   "outputs": [
    {
     "name": "stdout",
     "output_type": "stream",
     "text": [
      "the avg of 3 num is 23.333333333333332\n"
     ]
    }
   ],
   "source": [
    "# wap ask the user enter 3 numbers n1,n2,n3 from keyboard\n",
    "# calculate average \n",
    "\n",
    "n1=10\n",
    "n2=25\n",
    "n3=35\n",
    "avg=(n1+n2+n3)/3\n",
    "print(f\"the avg of 3 num is {avg}\")\n",
    "\n",
    "\n"
   ]
  },
  {
   "cell_type": "code",
   "execution_count": 46,
   "id": "75dbb4c7-71f3-4adc-b8c1-32a3dc793f05",
   "metadata": {},
   "outputs": [
    {
     "name": "stdin",
     "output_type": "stream",
     "text": [
      "enter the name :  python\n",
      "enter the age :  10\n",
      "enter the city:  Hyd\n"
     ]
    },
    {
     "name": "stdout",
     "output_type": "stream",
     "text": [
      " My name is python i am 10 year old and come from Hyd \n"
     ]
    }
   ],
   "source": [
    " # wap ask the user enter name age city\n",
    "# print my name is python in 10 year old and come from hyd\n",
    "\n",
    "name =input(\"enter the name : \")\n",
    "age = (input(\"enter the age : \"))\n",
    "city = input(\"enter the city: \")\n",
    "print(f\" My name is {name} i am {age} year old and come from {city} \")\n",
    "\n"
   ]
  },
  {
   "cell_type": "code",
   "execution_count": 60,
   "id": "b52e3634-d46c-43e2-b789-1440a92c41d7",
   "metadata": {},
   "outputs": [
    {
     "name": "stdin",
     "output_type": "stream",
     "text": [
      "enter the radidus of circle:  5\n"
     ]
    },
    {
     "name": "stdout",
     "output_type": "stream",
     "text": [
      "Area of circle : 78.5\n"
     ]
    }
   ],
   "source": [
    " # wap ask  the user to enter radidus of a circle calculate area of the circle \n",
    "# var: radidus  var: pi3.14\n",
    "# formula :pi*radius*radius\n",
    "# print the answer using f string and format\n",
    "\n",
    "radius = eval(input(\"enter the radidus of circle: \"))\n",
    " pi    = 3.14\n",
    "area =(pi*radius*radius)\n",
    "print(f\"Area of circle : {area}\")\n"
   ]
  },
  {
   "cell_type": "code",
   "execution_count": 65,
   "id": "cd2a3b04-ec3a-4d5e-91cc-3ac43d1fa62e",
   "metadata": {},
   "outputs": [
    {
     "name": "stdin",
     "output_type": "stream",
     "text": [
      "Enter the bredath :  2\n",
      "Enter the height:  10\n"
     ]
    },
    {
     "name": "stdout",
     "output_type": "stream",
     "text": [
      "area of the triangle is 10.0 \n",
      "area of the triangle is 10.0\n"
     ]
    }
   ],
   "source": [
    "# wap ask the user enter bredath and height of a right angle triangle \n",
    "# calculate area\n",
    "# var1 :bredath var2:height\n",
    "# formula : 0.5*breadth*height\n",
    "\n",
    "breadth = eval(input(\"Enter the bredath : \"))\n",
    "height = eval(input(\"Enter the height: \"))\n",
    "area = (0.5*breadth*height)\n",
    "print(\"area of the triangle is {} \".format(area))\n",
    "print(f\"area of the triangle is {area}\")"
   ]
  },
  {
   "cell_type": "code",
   "execution_count": 69,
   "id": "226ce967-e273-4d12-a9ae-d96428d359ed",
   "metadata": {},
   "outputs": [
    {
     "name": "stdin",
     "output_type": "stream",
     "text": [
      "enter the total bill :  500\n",
      "enter the tip :   20\n"
     ]
    },
    {
     "name": "stdout",
     "output_type": "stream",
     "text": [
      "the bill and tip total  amount is 520  \n",
      "the bill and tip total amount is 520 \n"
     ]
    }
   ],
   "source": [
    "# wap ask the user the bill amount and tip amount\n",
    "# calculate total bill \n",
    "# var1:bill amount var2:tip amount\n",
    "# formul \n",
    "bill = eval(input(\"enter the total bill : \"))\n",
    "tip = eval(input(\"enter the tip :  \"))\n",
    "\n",
    "total= (bill+tip)\n",
    "\n",
    "print(\"the bill and tip total  amount is {}  \".format(total))\n",
    "print(f\"the bill and tip total amount is {total} \")\n"
   ]
  },
  {
   "cell_type": "code",
   "execution_count": 91,
   "id": "404913fd-4a48-485f-a52f-affd15f193ca",
   "metadata": {},
   "outputs": [
    {
     "name": "stdin",
     "output_type": "stream",
     "text": [
      "Enter the total bill :  500\n",
      "Enter the tip percentage :   10\n"
     ]
    },
    {
     "name": "stdout",
     "output_type": "stream",
     "text": [
      "tip percentage amount is : 50.0\n",
      "the bill amount and tip percentage : 550.0\n"
     ]
    }
   ],
   "source": [
    "# wap ask the user the bill amount and tip percentage \n",
    "# take tip percetage as 10\n",
    "# calculate total bill= bill amount + bill amount*tip per/100\n",
    "# var1:bill amount var2:tip amount\n",
    "# formula \n",
    "\n",
    "bill = eval(input(\"Enter the total bill : \"))\n",
    "tip = eval(input(\"Enter the tip percentage :  \"))\n",
    "\n",
    "per  = (bill*tip/100)\n",
    "total = (bill+per)\n",
    "print(f\"tip percentage amount is : {per}\")\n",
    "#print(\"calculate the bill amount and tip percetage {}{}\".format(bill)(per))\n",
    "print(f\"the bill amount and tip percentage : {total}\")"
   ]
  },
  {
   "cell_type": "code",
   "execution_count": 79,
   "id": "7609c1f3-d359-4506-b341-07d8952c1d22",
   "metadata": {},
   "outputs": [
    {
     "name": "stdin",
     "output_type": "stream",
     "text": [
      "enter the lenght of :  10\n",
      "enter the breadth of:  20\n"
     ]
    },
    {
     "name": "stdout",
     "output_type": "stream",
     "text": [
      "Area of the rectangle is : 200\n",
      "Area of the rectangle is : 200\n"
     ]
    }
   ],
   "source": [
    "# wap ask the length and breadth of a rectangle calculate area \n",
    "# var1:lenght var2:breadth\n",
    "# formula:lenght*breadth\n",
    "\n",
    "lenght = eval(input(\"enter the lenght of : \"))\n",
    "breadth = eval(input(\"enter the breadth of: \"))\n",
    "\n",
    "area = lenght*breadth\n",
    "  \n",
    "print(\"Area of the rectangle is : {}\".format(area))\n",
    "print(f\"Area of the rectangle is : {area}\")"
   ]
  },
  {
   "cell_type": "code",
   "execution_count": 78,
   "id": "ae61b900-4665-4b65-871e-8a2c3f5b21f0",
   "metadata": {},
   "outputs": [
    {
     "name": "stdin",
     "output_type": "stream",
     "text": [
      "enter the radius :  5\n"
     ]
    },
    {
     "name": "stdout",
     "output_type": "stream",
     "text": [
      "the Volume of sphere 392.5 \n",
      "the Volume of sphere 392.5 \n"
     ]
    }
   ],
   "source": [
    "# wap ask the user take the radius and calculate volume of sphere\n",
    "# formula =pi*r*3(r*r*r)\n",
    "\n",
    "r = eval(input(\"enter the radius : \"))\n",
    "pi = 3.14\n",
    "volume = pi*r**3\n",
    "\n",
    "print(\"the Volume of sphere {} \".format(volume))\n",
    "print(f\"the Volume of sphere {volume} \")"
   ]
  },
  {
   "cell_type": "code",
   "execution_count": 75,
   "id": "50b6ca19-3c4b-48ed-a908-6cabc1584024",
   "metadata": {},
   "outputs": [
    {
     "name": "stdin",
     "output_type": "stream",
     "text": [
      "Enter the doller Amount :  5\n"
     ]
    },
    {
     "name": "stdout",
     "output_type": "stream",
     "text": [
      "Convert doller in to rupees :425 \n"
     ]
    }
   ],
   "source": [
    "# wap  ask the user the user enter amount in dollars covert into repees\n",
    "# 1$=85\n",
    "\n",
    "doller = eval(input(\"Enter the doller Amount : \"))\n",
    "\n",
    "total_rupees = 85*doller\n",
    "\n",
    "print(f\"Convert doller in to rupees :{total_rupees} \")"
   ]
  },
  {
   "cell_type": "code",
   "execution_count": 77,
   "id": "b700ef57-2644-49d8-84e9-629749af9fbb",
   "metadata": {},
   "outputs": [
    {
     "name": "stdin",
     "output_type": "stream",
     "text": [
      "Enter the weight in kg :  5\n"
     ]
    },
    {
     "name": "stdout",
     "output_type": "stream",
     "text": [
      "weight in pounds :11.0\n"
     ]
    }
   ],
   "source": [
    "# wap ask the user enter weight in kgs covert into pounds\n",
    "# 1kg=2.2pounds \n",
    "\n",
    "weight = eval(input(\"Enter the weight in kg : \"))\n",
    "pounds = 2.2*weight\n",
    "\n",
    "print(f\"weight in pounds :{pounds}\")\n"
   ]
  },
  {
   "cell_type": "code",
   "execution_count": null,
   "id": "477a8791-c5c5-4104-8241-ed6fbedc78f3",
   "metadata": {},
   "outputs": [],
   "source": []
  }
 ],
 "metadata": {
  "kernelspec": {
   "display_name": "Python 3 (ipykernel)",
   "language": "python",
   "name": "python3"
  },
  "language_info": {
   "codemirror_mode": {
    "name": "ipython",
    "version": 3
   },
   "file_extension": ".py",
   "mimetype": "text/x-python",
   "name": "python",
   "nbconvert_exporter": "python",
   "pygments_lexer": "ipython3",
   "version": "3.12.2"
  }
 },
 "nbformat": 4,
 "nbformat_minor": 5
}
