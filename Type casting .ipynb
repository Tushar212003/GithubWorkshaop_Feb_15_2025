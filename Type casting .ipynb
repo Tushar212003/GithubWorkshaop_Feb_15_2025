{
 "cells": [
  {
   "cell_type": "markdown",
   "id": "03f1ea73-cbd5-4a74-a6cb-14fb5df39a95",
   "metadata": {},
   "source": [
    "## Type casting \n",
    "- covert one data type to another data type \n",
    "- we learned 4 data type \n",
    "\n",
    "  - integer : int\n",
    "  - float   : float\n",
    "  - boolean : bool\n",
    "  - string  : str \n",
    "\n",
    "   - int to other data types"
   ]
  },
  {
   "cell_type": "code",
   "execution_count": 3,
   "id": "7f0406ee-1788-49be-ad28-511d0b4ccf2f",
   "metadata": {},
   "outputs": [
    {
     "data": {
      "text/plain": [
       "int"
      ]
     },
     "execution_count": 3,
     "metadata": {},
     "output_type": "execute_result"
    }
   ],
   "source": [
    "number=100\n",
    "type(number)"
   ]
  },
  {
   "cell_type": "code",
   "execution_count": 4,
   "id": "af16d8db-771a-4782-9a33-cea0e6b84da8",
   "metadata": {},
   "outputs": [
    {
     "data": {
      "text/plain": [
       "float"
      ]
     },
     "execution_count": 4,
     "metadata": {},
     "output_type": "execute_result"
    }
   ],
   "source": [
    "float_number=float(number)\n",
    "type(float_number)"
   ]
  },
  {
   "cell_type": "code",
   "execution_count": 5,
   "id": "4ea1d157-2f7b-4a19-8cb2-05d5f6df5272",
   "metadata": {},
   "outputs": [],
   "source": [
    "bool_number=bool"
   ]
  },
  {
   "cell_type": "code",
   "execution_count": 6,
   "id": "9f847b69-7bf3-412e-ba13-947c303d4091",
   "metadata": {},
   "outputs": [
    {
     "name": "stdout",
     "output_type": "stream",
     "text": [
      "-100.0\n",
      "True\n",
      "-100\n"
     ]
    }
   ],
   "source": [
    "print(float(-100))\n",
    "print(bool(-100))\n",
    "print(str(-100))"
   ]
  },
  {
   "cell_type": "markdown",
   "id": "feff227a-45d6-4059-980a-4277cba737eb",
   "metadata": {},
   "source": [
    " - zero means **False** \n",
    "\n",
    "- one meanss **True**"
   ]
  },
  {
   "cell_type": "code",
   "execution_count": 9,
   "id": "ffeda3c3-0241-474a-a990-3e541e86b471",
   "metadata": {},
   "outputs": [
    {
     "name": "stdout",
     "output_type": "stream",
     "text": [
      "0.0\n",
      "False\n",
      "0\n"
     ]
    }
   ],
   "source": [
    "print(float(0))\n",
    "print(bool(0))\n",
    "print(str(0))"
   ]
  },
  {
   "cell_type": "code",
   "execution_count": 5,
   "id": "a77dff6e-5e18-4630-a9b3-bf742c5ec5e1",
   "metadata": {},
   "outputs": [
    {
     "name": "stdout",
     "output_type": "stream",
     "text": [
      "False\n",
      "True\n"
     ]
    }
   ],
   "source": [
    "print(2>5)\n",
    "print(5>2)"
   ]
  },
  {
   "cell_type": "markdown",
   "id": "7bce38d3-17e3-43cf-8c2c-6ce91294d754",
   "metadata": {},
   "source": [
    "# Float to other data type "
   ]
  },
  {
   "cell_type": "code",
   "execution_count": 8,
   "id": "a67449f1-b24e-47c8-a0ce-b0b367e5606e",
   "metadata": {},
   "outputs": [
    {
     "name": "stdout",
     "output_type": "stream",
     "text": [
      "100\n"
     ]
    }
   ],
   "source": [
    "n1=int(100.5)\n",
    "print(n1)"
   ]
  },
  {
   "cell_type": "code",
   "execution_count": 9,
   "id": "789f1993-a5ac-4dc5-891f-7ae44da9dd1e",
   "metadata": {},
   "outputs": [
    {
     "data": {
      "text/plain": [
       "'100'"
      ]
     },
     "execution_count": 9,
     "metadata": {},
     "output_type": "execute_result"
    }
   ],
   "source": [
    "str(n1)"
   ]
  },
  {
   "cell_type": "code",
   "execution_count": 11,
   "id": "0f5fb8c5-48be-4802-ae6a-96ae48e948f2",
   "metadata": {},
   "outputs": [
    {
     "name": "stdout",
     "output_type": "stream",
     "text": [
      "120\n"
     ]
    }
   ],
   "source": [
    "a = 100\n",
    "b = \"100\"\n",
    "c = 20\n",
    "d = 'age is '\n",
    "\n",
    "print(a+c)"
   ]
  },
  {
   "cell_type": "code",
   "execution_count": 13,
   "id": "dc86977c-f6d9-4c1b-8b2a-118e6d21fa32",
   "metadata": {},
   "outputs": [
    {
     "name": "stdout",
     "output_type": "stream",
     "text": [
      "age is 100\n"
     ]
    }
   ],
   "source": [
    "print(d+b)"
   ]
  },
  {
   "cell_type": "code",
   "execution_count": 14,
   "id": "381f35f0-2b1f-43ec-976d-687948242a92",
   "metadata": {},
   "outputs": [
    {
     "name": "stdout",
     "output_type": "stream",
     "text": [
      "100age is \n"
     ]
    }
   ],
   "source": [
    "print(b+d)"
   ]
  },
  {
   "cell_type": "code",
   "execution_count": 15,
   "id": "c55e8c8d-68c2-4326-ac72-1de5a50d5296",
   "metadata": {},
   "outputs": [
    {
     "data": {
      "text/plain": [
       "'100'"
      ]
     },
     "execution_count": 15,
     "metadata": {},
     "output_type": "execute_result"
    }
   ],
   "source": [
    "int(b)\n",
    "b\n"
   ]
  },
  {
   "cell_type": "code",
   "execution_count": 12,
   "id": "995c5ea5-9476-4360-8491-a8b477047512",
   "metadata": {},
   "outputs": [
    {
     "name": "stdout",
     "output_type": "stream",
     "text": [
      "100\n",
      "True\n",
      "100.5\n"
     ]
    }
   ],
   "source": [
    "n1=int(100.5)\n",
    "n2=bool(100.5)\n",
    "n3=str (100.5)\n",
    "print(n1)\n",
    "print(n2)\n",
    "print(n3)"
   ]
  },
  {
   "cell_type": "code",
   "execution_count": 13,
   "id": "564a86d8-0b8f-4f63-8c5a-a1dcc0373426",
   "metadata": {},
   "outputs": [
    {
     "name": "stdout",
     "output_type": "stream",
     "text": [
      "0\n",
      "False\n",
      "0.0\n"
     ]
    }
   ],
   "source": [
    "n1=int(0.0)\n",
    "n2=bool(0.0)\n",
    "n3=str (0.0)\n",
    "print(n1)\n",
    "print(n2)\n",
    "print(n3)"
   ]
  },
  {
   "cell_type": "markdown",
   "id": "4c5f65c9-dc2f-4e5f-8742-82083fdaafee",
   "metadata": {},
   "source": [
    "### String to other types"
   ]
  },
  {
   "cell_type": "code",
   "execution_count": 20,
   "id": "61fc4ecb-0b39-429e-9d67-a14fe64ac6b6",
   "metadata": {},
   "outputs": [
    {
     "ename": "ValueError",
     "evalue": "invalid literal for int() with base 10: 'apple'",
     "output_type": "error",
     "traceback": [
      "\u001b[1;31m---------------------------------------------------------------------------\u001b[0m",
      "\u001b[1;31mValueError\u001b[0m                                Traceback (most recent call last)",
      "Cell \u001b[1;32mIn[20], line 1\u001b[0m\n\u001b[1;32m----> 1\u001b[0m \u001b[38;5;28;43mint\u001b[39;49m\u001b[43m(\u001b[49m\u001b[38;5;124;43m'\u001b[39;49m\u001b[38;5;124;43mapple\u001b[39;49m\u001b[38;5;124;43m'\u001b[39;49m\u001b[43m)\u001b[49m\n\u001b[0;32m      2\u001b[0m \u001b[38;5;28mfloat\u001b[39m(\u001b[38;5;124m'\u001b[39m\u001b[38;5;124mapple\u001b[39m\u001b[38;5;124m'\u001b[39m)\n",
      "\u001b[1;31mValueError\u001b[0m: invalid literal for int() with base 10: 'apple'"
     ]
    }
   ],
   "source": [
    "int('apple')\n",
    "float('apple')\n",
    "bool('apple')"
   ]
  },
  {
   "cell_type": "code",
   "execution_count": 18,
   "id": "a563eba4-7008-4897-9877-24af53c10a62",
   "metadata": {},
   "outputs": [
    {
     "data": {
      "text/plain": [
       "True"
      ]
     },
     "execution_count": 18,
     "metadata": {},
     "output_type": "execute_result"
    }
   ],
   "source": [
    "bool('0')"
   ]
  },
  {
   "cell_type": "code",
   "execution_count": 19,
   "id": "f177341d-3886-45c9-b76c-ffb8424ebc42",
   "metadata": {},
   "outputs": [
    {
     "data": {
      "text/plain": [
       "False"
      ]
     },
     "execution_count": 19,
     "metadata": {},
     "output_type": "execute_result"
    }
   ],
   "source": [
    "bool('')"
   ]
  },
  {
   "cell_type": "code",
   "execution_count": 20,
   "id": "d0c79ace-b7ee-4ecb-a41b-908f788563d8",
   "metadata": {},
   "outputs": [
    {
     "data": {
      "text/plain": [
       "5"
      ]
     },
     "execution_count": 20,
     "metadata": {},
     "output_type": "execute_result"
    }
   ],
   "source": [
    "len('apple')"
   ]
  },
  {
   "cell_type": "code",
   "execution_count": 21,
   "id": "31fb6d1e-64b7-4538-b8fe-079dda288563",
   "metadata": {},
   "outputs": [
    {
     "data": {
      "text/plain": [
       "1"
      ]
     },
     "execution_count": 21,
     "metadata": {},
     "output_type": "execute_result"
    }
   ],
   "source": [
    "len('0')"
   ]
  },
  {
   "cell_type": "code",
   "execution_count": 22,
   "id": "8483ec69-3b92-4f37-9369-6dc8e126e785",
   "metadata": {},
   "outputs": [
    {
     "data": {
      "text/plain": [
       "0"
      ]
     },
     "execution_count": 22,
     "metadata": {},
     "output_type": "execute_result"
    }
   ],
   "source": [
    "len(\"\")"
   ]
  },
  {
   "cell_type": "markdown",
   "id": "e23f19c9-f0bf-4102-bbf2-d490a77acf89",
   "metadata": {},
   "source": [
    " - for number 0 and 0.0 boolean coversion gives **False**\n",
    "- for strings empty boolean coversion gives **False**"
   ]
  },
  {
   "cell_type": "code",
   "execution_count": 24,
   "id": "a264b0a4-6c8f-46bf-a8b2-33d6089d7f40",
   "metadata": {},
   "outputs": [
    {
     "data": {
      "text/plain": [
       "10"
      ]
     },
     "execution_count": 24,
     "metadata": {},
     "output_type": "execute_result"
    }
   ],
   "source": [
    "float('10') #works 10.0\n",
    "bool('10')  #works Ture\n",
    "int('10')  # works 10\n"
   ]
  },
  {
   "cell_type": "code",
   "execution_count": 23,
   "id": "ae5dc33e-4a66-484c-ad44-223686190cfc",
   "metadata": {},
   "outputs": [
    {
     "data": {
      "text/plain": [
       "10.0"
      ]
     },
     "execution_count": 23,
     "metadata": {},
     "output_type": "execute_result"
    }
   ],
   "source": [
    "float('10')"
   ]
  },
  {
   "cell_type": "code",
   "execution_count": 26,
   "id": "415c70ec-87ab-4827-bcae-34ea3c0baf14",
   "metadata": {},
   "outputs": [
    {
     "data": {
      "text/plain": [
       "True"
      ]
     },
     "execution_count": 26,
     "metadata": {},
     "output_type": "execute_result"
    }
   ],
   "source": [
    "bool('10')"
   ]
  },
  {
   "cell_type": "code",
   "execution_count": 27,
   "id": "96f9b589-9ff6-4f37-ab40-b033f81cac19",
   "metadata": {},
   "outputs": [
    {
     "data": {
      "text/plain": [
       "10"
      ]
     },
     "execution_count": 27,
     "metadata": {},
     "output_type": "execute_result"
    }
   ],
   "source": [
    "int('10')"
   ]
  },
  {
   "cell_type": "markdown",
   "id": "7cb25965-2992-41c7-bed2-b3698fa185ab",
   "metadata": {},
   "source": [
    "### str object not callable \n",
    "- python magic\n",
    "- either you need open new notebook\n",
    "- or go to kerenal and restart "
   ]
  },
  {
   "cell_type": "markdown",
   "id": "1bbcb270-d302-4a64-bfa9-8756778e4249",
   "metadata": {},
   "source": [
    "- float('10.5') # w 10.5 \n",
    "- bool('10.5')  # w true \n",
    "- int('10.5')   ###### Fail"
   ]
  },
  {
   "cell_type": "code",
   "execution_count": 29,
   "id": "1ff677b3-819b-44cf-aa9f-e04e03f4e4df",
   "metadata": {},
   "outputs": [
    {
     "data": {
      "text/plain": [
       "10.5"
      ]
     },
     "execution_count": 29,
     "metadata": {},
     "output_type": "execute_result"
    }
   ],
   "source": [
    "float('10.5')"
   ]
  },
  {
   "cell_type": "code",
   "execution_count": 31,
   "id": "1151b1bf-97ec-4a49-892d-5aecf95dc408",
   "metadata": {},
   "outputs": [
    {
     "ename": "ValueError",
     "evalue": "invalid literal for int() with base 10: '10.5'",
     "output_type": "error",
     "traceback": [
      "\u001b[1;31m---------------------------------------------------------------------------\u001b[0m",
      "\u001b[1;31mValueError\u001b[0m                                Traceback (most recent call last)",
      "Cell \u001b[1;32mIn[31], line 1\u001b[0m\n\u001b[1;32m----> 1\u001b[0m \u001b[38;5;28;43mint\u001b[39;49m\u001b[43m(\u001b[49m\u001b[38;5;124;43m'\u001b[39;49m\u001b[38;5;124;43m10.5\u001b[39;49m\u001b[38;5;124;43m'\u001b[39;49m\u001b[43m)\u001b[49m\n",
      "\u001b[1;31mValueError\u001b[0m: invalid literal for int() with base 10: '10.5'"
     ]
    }
   ],
   "source": [
    "int('10.5')"
   ]
  },
  {
   "cell_type": "markdown",
   "id": "3434af00-6ff8-4442-87c1-58f9cb63210f",
   "metadata": {},
   "source": [
    "### float is the boss \n",
    "float('10')   # W\n",
    "float('10.5') # W\n",
    "\n",
    "int('10')   # w\n",
    "int('10.5') #f\n",
    "\n",
    "# its very important "
   ]
  },
  {
   "cell_type": "markdown",
   "id": "f39ffb64-ecc9-42a0-a6f1-5c8d2225e158",
   "metadata": {},
   "source": [
    "### boolean other data types"
   ]
  },
  {
   "cell_type": "markdown",
   "id": "dc5bde48-b9a1-4391-8d24-3cadb85dd3aa",
   "metadata": {},
   "source": [
    "- int(True)  # w 1\n",
    "- float(Ture) # w 1.0\n",
    "- str(True)   # 'ture'\n",
    "- int(False)  # 0\n",
    "- float(False) # 0.0\n",
    "- str(False)   # false\n"
   ]
  },
  {
   "cell_type": "code",
   "execution_count": 26,
   "id": "34cf2974-3050-4a36-b2c0-01037acfc6af",
   "metadata": {},
   "outputs": [
    {
     "data": {
      "text/plain": [
       "1"
      ]
     },
     "execution_count": 26,
     "metadata": {},
     "output_type": "execute_result"
    }
   ],
   "source": [
    "int(True)\n"
   ]
  },
  {
   "cell_type": "code",
   "execution_count": 31,
   "id": "9320c38d-db07-4d79-8939-80acf2e5072a",
   "metadata": {},
   "outputs": [
    {
     "name": "stdout",
     "output_type": "stream",
     "text": [
      "1\n",
      "1.0\n",
      "True\n",
      "0\n"
     ]
    },
    {
     "data": {
      "text/plain": [
       "'False'"
      ]
     },
     "execution_count": 31,
     "metadata": {},
     "output_type": "execute_result"
    }
   ],
   "source": [
    "print(int(True)) \n",
    "print(float(True))\n",
    "print(str(True)) \n",
    "print(int(False))  \n",
    "float(False) \n",
    "str(False)  "
   ]
  },
  {
   "cell_type": "code",
   "execution_count": null,
   "id": "6525169a-7899-4122-b15a-0e5866c7e506",
   "metadata": {},
   "outputs": [],
   "source": []
  }
 ],
 "metadata": {
  "kernelspec": {
   "display_name": "Python 3 (ipykernel)",
   "language": "python",
   "name": "python3"
  },
  "language_info": {
   "codemirror_mode": {
    "name": "ipython",
    "version": 3
   },
   "file_extension": ".py",
   "mimetype": "text/x-python",
   "name": "python",
   "nbconvert_exporter": "python",
   "pygments_lexer": "ipython3",
   "version": "3.12.2"
  }
 },
 "nbformat": 4,
 "nbformat_minor": 5
}
