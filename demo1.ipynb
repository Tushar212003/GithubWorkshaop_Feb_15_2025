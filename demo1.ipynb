{
 "cells": [
  {
   "cell_type": "markdown",
   "id": "d3545565-bc44-4731-baf5-64ce20755044",
   "metadata": {},
   "source": [
    "# **python practice session**"
   ]
  },
  {
   "cell_type": "markdown",
   "id": "8a429f09-888d-4b70-a4ed-57f00b56587d",
   "metadata": {},
   "source": [
    "- ## **Topic = Variable**\n",
    "- **Variable** :- varable is the name of memory location  which can store data / value"
   ]
  },
  {
   "cell_type": "code",
   "execution_count": 7,
   "id": "710feffc-dbb2-41a4-9d64-1123457da124",
   "metadata": {},
   "outputs": [
    {
     "data": {
      "text/plain": [
       "30"
      ]
     },
     "execution_count": 7,
     "metadata": {},
     "output_type": "execute_result"
    }
   ],
   "source": [
    "a = 10  # a is the variable name and { 10 is the data } , which is in store in the variable\n",
    "b = 20  #  b is the variable name and { 20 is the data } , which is in store in the variable\n",
    "\n",
    "a+b"
   ]
  },
  {
   "cell_type": "code",
   "execution_count": 10,
   "id": "616c8895-c0ff-47d2-8ba7-2b36cb3b8936",
   "metadata": {},
   "outputs": [
    {
     "name": "stdout",
     "output_type": "stream",
     "text": [
      "50\n",
      "60\n"
     ]
    }
   ],
   "source": [
    "a = 50\n",
    "A = 60\n",
    "\n",
    "print(a)\n",
    "print(A)"
   ]
  },
  {
   "cell_type": "code",
   "execution_count": 12,
   "id": "437364b7-dd86-4e1a-90f8-cec5d359c767",
   "metadata": {},
   "outputs": [
    {
     "name": "stdout",
     "output_type": "stream",
     "text": [
      "30\n"
     ]
    }
   ],
   "source": [
    "b = 30\n",
    "\n",
    "print(b)"
   ]
  },
  {
   "cell_type": "code",
   "execution_count": 14,
   "id": "2b561efa-9195-4676-aef3-b144907946a9",
   "metadata": {},
   "outputs": [
    {
     "ename": "NameError",
     "evalue": "name 'B' is not defined",
     "output_type": "error",
     "traceback": [
      "\u001b[1;31m---------------------------------------------------------------------------\u001b[0m",
      "\u001b[1;31mNameError\u001b[0m                                 Traceback (most recent call last)",
      "Cell \u001b[1;32mIn[14], line 1\u001b[0m\n\u001b[1;32m----> 1\u001b[0m \u001b[43mB\u001b[49m\n",
      "\u001b[1;31mNameError\u001b[0m: name 'B' is not defined"
     ]
    }
   ],
   "source": [
    "B"
   ]
  },
  {
   "cell_type": "code",
   "execution_count": null,
   "id": "5bf566cc-d272-4498-acd4-f921c281dfd3",
   "metadata": {},
   "outputs": [],
   "source": []
  },
  {
   "cell_type": "code",
   "execution_count": 8,
   "id": "df3e7ad1-8dbd-4678-97e2-e35a93f97085",
   "metadata": {},
   "outputs": [
    {
     "data": {
      "text/plain": [
       "'Tushar'"
      ]
     },
     "execution_count": 8,
     "metadata": {},
     "output_type": "execute_result"
    }
   ],
   "source": [
    "name = \"Tushar\"\n",
    "name"
   ]
  },
  {
   "cell_type": "code",
   "execution_count": 13,
   "id": "a9c62595-9a57-4ce9-bcd8-ca6722856f23",
   "metadata": {},
   "outputs": [
    {
     "ename": "NameError",
     "evalue": "name 'Name' is not defined",
     "output_type": "error",
     "traceback": [
      "\u001b[1;31m---------------------------------------------------------------------------\u001b[0m",
      "\u001b[1;31mNameError\u001b[0m                                 Traceback (most recent call last)",
      "Cell \u001b[1;32mIn[13], line 1\u001b[0m\n\u001b[1;32m----> 1\u001b[0m \u001b[43mName\u001b[49m\n",
      "\u001b[1;31mNameError\u001b[0m: name 'Name' is not defined"
     ]
    }
   ],
   "source": [
    "\n",
    "\n",
    "\n",
    "\n",
    "\n",
    "\n",
    "\n",
    "\n",
    "\n",
    "Name"
   ]
  },
  {
   "cell_type": "code",
   "execution_count": 4,
   "id": "051ebc46-3768-48f5-80a1-305edc64fb95",
   "metadata": {},
   "outputs": [
    {
     "data": {
      "text/plain": [
       "60"
      ]
     },
     "execution_count": 4,
     "metadata": {},
     "output_type": "execute_result"
    }
   ],
   "source": [
    "d = 50\n",
    "d+a"
   ]
  },
  {
   "cell_type": "code",
   "execution_count": 15,
   "id": "d726bea8-41cd-4811-9fff-a9bfc645553b",
   "metadata": {},
   "outputs": [
    {
     "ename": "SyntaxError",
     "evalue": "unterminated string literal (detected at line 1) (1987553564.py, line 1)",
     "output_type": "error",
     "traceback": [
      "\u001b[1;36m  Cell \u001b[1;32mIn[15], line 1\u001b[1;36m\u001b[0m\n\u001b[1;33m    name = \"Tushar bhai'\u001b[0m\n\u001b[1;37m           ^\u001b[0m\n\u001b[1;31mSyntaxError\u001b[0m\u001b[1;31m:\u001b[0m unterminated string literal (detected at line 1)\n"
     ]
    }
   ],
   "source": [
    "name = \"Tushar bhai'\n"
   ]
  },
  {
   "cell_type": "code",
   "execution_count": 17,
   "id": "9eff16c8-7d6f-4dce-9fa3-084f44b76603",
   "metadata": {},
   "outputs": [
    {
     "ename": "SyntaxError",
     "evalue": "closing parenthesis ']' does not match opening parenthesis '(' (1736253145.py, line 1)",
     "output_type": "error",
     "traceback": [
      "\u001b[1;36m  Cell \u001b[1;32mIn[17], line 1\u001b[1;36m\u001b[0m\n\u001b[1;33m    print(a+b]\u001b[0m\n\u001b[1;37m             ^\u001b[0m\n\u001b[1;31mSyntaxError\u001b[0m\u001b[1;31m:\u001b[0m closing parenthesis ']' does not match opening parenthesis '('\n"
     ]
    }
   ],
   "source": [
    "print(a+b]"
   ]
  },
  {
   "cell_type": "code",
   "execution_count": 18,
   "id": "9d3a5ddd-1835-4011-9d2e-1db7db222f61",
   "metadata": {},
   "outputs": [
    {
     "name": "stdout",
     "output_type": "stream",
     "text": [
      "80\n"
     ]
    }
   ],
   "source": [
    "print(a+b)"
   ]
  },
  {
   "cell_type": "code",
   "execution_count": 1,
   "id": "dd67214e-67b9-4cfc-a7dd-aa68adc27869",
   "metadata": {},
   "outputs": [
    {
     "data": {
      "text/plain": [
       "'C:\\\\Omkar Sir\\\\python session'"
      ]
     },
     "execution_count": 1,
     "metadata": {},
     "output_type": "execute_result"
    }
   ],
   "source": [
    "import os  \n",
    "os.getcwd()\n",
    "# get current working directory (that code in jupytor notbook)\n"
   ]
  },
  {
   "cell_type": "code",
   "execution_count": null,
   "id": "ee106ae1",
   "metadata": {},
   "outputs": [],
   "source": [
    "# checkpoint-1:\n",
    "# emty squre brackrt before the code cell\n",
    "# indicate we did nor run the cell\n",
    "\n",
    "\n",
    "# checkpoint -2:\n",
    "#if we see a * mark inside squre bracket \n",
    "#do not run the next code cell\n",
    "\n",
    "#start mark indicate \n",
    "\n",
    "name=\"omkar\"\n",
    "\n"
   ]
  }
 ],
 "metadata": {
  "kernelspec": {
   "display_name": "Python 3 (ipykernel)",
   "language": "python",
   "name": "python3"
  },
  "language_info": {
   "codemirror_mode": {
    "name": "ipython",
    "version": 3
   },
   "file_extension": ".py",
   "mimetype": "text/x-python",
   "name": "python",
   "nbconvert_exporter": "python",
   "pygments_lexer": "ipython3",
   "version": "3.12.2"
  }
 },
 "nbformat": 4,
 "nbformat_minor": 5
}
