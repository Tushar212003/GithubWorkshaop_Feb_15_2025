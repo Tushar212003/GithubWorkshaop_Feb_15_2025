{
 "cells": [
  {
   "cell_type": "markdown",
   "id": "0b951e8b-1a32-42b4-84c2-6c2b8819d6f0",
   "metadata": {},
   "source": [
    "## Data types"
   ]
  },
  {
   "cell_type": "markdown",
   "id": "bda060a0-e959-4f33-a065-5ad7248f01a1",
   "metadata": {},
   "source": [
    "- int\n",
    "\n",
    "- float\n",
    "\n",
    "- string \n",
    "\n",
    "- set\n",
    "\n",
    "  - frozen set \n",
    "\n",
    "- dictionary \n",
    "\n",
    "- bool\n",
    "\n",
    "- complex\n",
    "\n",
    "- range \n",
    "\n",
    "- byte\n",
    "\n",
    "- byte array\n",
    "\n",
    "- memory view \n",
    "\n",
    "\n",
    "- none type"
   ]
  },
  {
   "cell_type": "markdown",
   "id": "e20923fe-d514-4447-8836-2f0d90ac382b",
   "metadata": {},
   "source": [
    "# $ integers $ \n"
   ]
  },
  {
   "cell_type": "code",
   "execution_count": 2,
   "id": "31468422-8910-4e31-bab6-d61250c77afc",
   "metadata": {},
   "outputs": [
    {
     "data": {
      "text/plain": [
       "100"
      ]
     },
     "execution_count": 2,
     "metadata": {},
     "output_type": "execute_result"
    }
   ],
   "source": [
    "number = 100\n",
    "number"
   ]
  },
  {
   "cell_type": "code",
   "execution_count": 3,
   "id": "8aad0ec9-747c-4ff8-8c74-c8692c50b901",
   "metadata": {},
   "outputs": [
    {
     "data": {
      "text/plain": [
       "int"
      ]
     },
     "execution_count": 3,
     "metadata": {},
     "output_type": "execute_result"
    }
   ],
   "source": [
    "type(number)"
   ]
  },
  {
   "cell_type": "markdown",
   "id": "a10f9d67-e9af-4656-921b-accc39cfe7c2",
   "metadata": {},
   "source": [
    "**number system**\n",
    "\n",
    "- Binary number system \n",
    "\n",
    "- decimal number system \n",
    "\n",
    "- Octa number system \n",
    "\n",
    "- Hexa number system \n",
    "\n"
   ]
  },
  {
   "cell_type": "markdown",
   "id": "f19dcb94-86e7-4ce7-8e26-3bb2adde6682",
   "metadata": {},
   "source": [
    "**Binary number system**\n",
    "- it is denoted with **0b** or **0B** \n",
    "\n",
    "- Binary means two \n",
    "\n",
    "- we have generally 0 to 9 digits available \n",
    "\n",
    "- binary means only twi digits allowed : 0 and 1\n",
    "\n",
    "- ex :0b101 ob111 0b000 0B001 \n",
    "\n",
    "not valid : 0b123 0B000012 \n",
    "\n"
   ]
  },
  {
   "cell_type": "markdown",
   "id": "5db313cb-f61a-48a5-9639-597fb40027ac",
   "metadata": {},
   "source": [
    "2^2 2^1 2^0\n",
    "4    2   1\n",
    "##################\n",
    "  0  0    0   0   0 \n",
    "  0  0    0   1   1\n",
    "  0  0    1   0   2\n",
    "  0  0    1   1   3\n",
    "  0  1    0   0   4\n",
    "  0  1    0   1   5\n",
    "  0  1    1   0   6 \n",
    "  0  1    1   1   7\n",
    "  1\n",
    "  1\n",
    "  1\n",
    "  1\n",
    "  1\n",
    "  1\n",
    "  1\n",
    "  1"
   ]
  },
  {
   "cell_type": "markdown",
   "id": "cd040d78-6ee7-4ed5-be12-c34c6c68089d",
   "metadata": {},
   "source": [
    "### # ** Octa number system **\n",
    " - it is denoted with **0o** or 0O\n",
    " - octa is denoted by 0\n",
    " - octa mens 8\n",
    " - we generally 0 to 9 digital available \n",
    " - octa means only digits are allowed : 0 1 2 3 4 5 6 7"
   ]
  },
  {
   "cell_type": "code",
   "execution_count": 1,
   "id": "e7da74a2-f3ae-4fa3-b5ec-b4e24b2f0cd1",
   "metadata": {},
   "outputs": [
    {
     "data": {
      "text/plain": [
       "45"
      ]
     },
     "execution_count": 1,
     "metadata": {},
     "output_type": "execute_result"
    }
   ],
   "source": [
    " 0o55\n"
   ]
  },
  {
   "cell_type": "code",
   "execution_count": null,
   "id": "06a099a0-6057-41f9-8ad4-aad44475b3c7",
   "metadata": {},
   "outputs": [],
   "source": []
  },
  {
   "cell_type": "markdown",
   "id": "9dc4d734-6065-414c-b1c9-11b1985a8f02",
   "metadata": {},
   "source": [
    "## hexa number system \n"
   ]
  },
  {
   "cell_type": "markdown",
   "id": "fb697ac1-de6d-4a44-b9c3-ae10c0159b43",
   "metadata": {},
   "source": [
    "- it is denoted with 0x or 0x\n",
    "- hexa is denoted by x\n",
    "- hexa means 16\n",
    "- we have generally 0 to 9 digit available\n",
    "- hexa means only digits are allowed 0 to 9 A to F\n",
    "- ex. 0xabc, 0XABC\n",
    "- not valid 0xefg"
   ]
  },
  {
   "cell_type": "code",
   "execution_count": 8,
   "id": "56062752-201e-456e-9120-51ce44678233",
   "metadata": {},
   "outputs": [
    {
     "data": {
      "text/plain": [
       "40000.0"
      ]
     },
     "execution_count": 8,
     "metadata": {},
     "output_type": "execute_result"
    }
   ],
   "source": [
    "1e1   # 1*10=10\n",
    "1e2   # 1*100=100\n",
    "2e3   # 2*1000=2000\n",
    "4e4   # 4*10000=40000"
   ]
  },
  {
   "cell_type": "code",
   "execution_count": 9,
   "id": "7684e1df-8f64-4d38-83aa-d247d4ffb073",
   "metadata": {},
   "outputs": [
    {
     "name": "stdout",
     "output_type": "stream",
     "text": [
      "10.0\n",
      "100.0\n",
      "2000.0\n",
      "40000.0\n"
     ]
    }
   ],
   "source": [
    "print(1e1)   # 1*10=10\n",
    "print(1e2)   # 1*100=100\n",
    "print(2e3)   # 2*1000=2000\n",
    "print(4e4)   # 4*10000=40000"
   ]
  },
  {
   "cell_type": "code",
   "execution_count": 10,
   "id": "cabdbc5f-bca1-4825-945d-2614a370aa16",
   "metadata": {},
   "outputs": [
    {
     "name": "stdout",
     "output_type": "stream",
     "text": [
      "0\n",
      "-1\n",
      "-1\n",
      "0\n"
     ]
    }
   ],
   "source": [
    "print(1-1)   # 1/10=0.1\n",
    "print(1-2)   # 1/100=0.01\n",
    "print(2-3)   # 2/1000=0.002\n",
    "print(4-4)   # 4/10000=40000"
   ]
  },
  {
   "cell_type": "code",
   "execution_count": 2,
   "id": "a29cdef9-81b2-4a27-b005-3d1619d7e58e",
   "metadata": {},
   "outputs": [
    {
     "data": {
      "text/plain": [
       "95"
      ]
     },
     "execution_count": 2,
     "metadata": {},
     "output_type": "execute_result"
    }
   ],
   "source": [
    "0x5F"
   ]
  },
  {
   "cell_type": "code",
   "execution_count": 4,
   "id": "14e5927e-a9b9-4324-8352-de1a87fc08ef",
   "metadata": {},
   "outputs": [
    {
     "data": {
      "text/plain": [
       "2748"
      ]
     },
     "execution_count": 4,
     "metadata": {},
     "output_type": "execute_result"
    }
   ],
   "source": [
    "0XABC"
   ]
  },
  {
   "cell_type": "code",
   "execution_count": 1,
   "id": "8a9d4165-2bb7-4c24-813b-ff3bc061c6bf",
   "metadata": {},
   "outputs": [
    {
     "data": {
      "text/plain": [
       "2751"
      ]
     },
     "execution_count": 1,
     "metadata": {},
     "output_type": "execute_result"
    }
   ],
   "source": [
    "0xabf\n"
   ]
  },
  {
   "cell_type": "markdown",
   "id": "a02d7791-735c-43dc-af78-df42af53735f",
   "metadata": {},
   "source": [
    "## integer data type \n",
    "# float data type  \n",
    "\n"
   ]
  },
  {
   "cell_type": "markdown",
   "id": "7f8b4694-09c0-49a9-a915-436fae467bb7",
   "metadata": {},
   "source": [
    "### Boolean "
   ]
  },
  {
   "cell_type": "code",
   "execution_count": 2,
   "id": "da1c70d7-fb23-46d3-a05e-26e0d8ad5cbd",
   "metadata": {},
   "outputs": [
    {
     "data": {
      "text/plain": [
       "True"
      ]
     },
     "execution_count": 2,
     "metadata": {},
     "output_type": "execute_result"
    }
   ],
   "source": [
    "val=True\n",
    "val\n",
    "\n"
   ]
  },
  {
   "cell_type": "code",
   "execution_count": 3,
   "id": "1e71a809-9672-4673-9f28-479c32b3f6ca",
   "metadata": {},
   "outputs": [
    {
     "data": {
      "text/plain": [
       "bool"
      ]
     },
     "execution_count": 3,
     "metadata": {},
     "output_type": "execute_result"
    }
   ],
   "source": [
    "type(val)"
   ]
  },
  {
   "cell_type": "code",
   "execution_count": 4,
   "id": "c259e908-4dfe-4a82-bbbb-e7ea6ef6ccc5",
   "metadata": {},
   "outputs": [
    {
     "ename": "NameError",
     "evalue": "name 'true' is not defined",
     "output_type": "error",
     "traceback": [
      "\u001b[1;31m---------------------------------------------------------------------------\u001b[0m",
      "\u001b[1;31mNameError\u001b[0m                                 Traceback (most recent call last)",
      "Cell \u001b[1;32mIn[4], line 1\u001b[0m\n\u001b[1;32m----> 1\u001b[0m \u001b[43mtrue\u001b[49m\n",
      "\u001b[1;31mNameError\u001b[0m: name 'true' is not defined"
     ]
    }
   ],
   "source": [
    "true"
   ]
  },
  {
   "cell_type": "markdown",
   "id": "2a1ac757-6636-4893-8026-a22ef91f80c3",
   "metadata": {},
   "source": [
    "# strings\n"
   ]
  },
  {
   "cell_type": "markdown",
   "id": "6c66beb6-ab95-4afa-b4a3-6ecdf1eb0029",
   "metadata": {},
   "source": [
    " - English format representation \n",
    " - strings represent with quotes \n",
    " - we can use single quotes , double quotes also triple quots\n",
    "\n",
    "    \n"
   ]
  },
  {
   "cell_type": "code",
   "execution_count": 6,
   "id": "45031b73-187f-4196-8551-c8621554e92a",
   "metadata": {},
   "outputs": [
    {
     "data": {
      "text/plain": [
       "'python'"
      ]
     },
     "execution_count": 6,
     "metadata": {},
     "output_type": "execute_result"
    }
   ],
   "source": [
    "name='python'\n",
    "name "
   ]
  },
  {
   "cell_type": "code",
   "execution_count": 7,
   "id": "7bf1cb6f-4786-4004-8a76-db1d101d4e0b",
   "metadata": {},
   "outputs": [
    {
     "data": {
      "text/plain": [
       "str"
      ]
     },
     "execution_count": 7,
     "metadata": {},
     "output_type": "execute_result"
    }
   ],
   "source": [
    "type(name)"
   ]
  },
  {
   "cell_type": "code",
   "execution_count": 8,
   "id": "4a9ced38-be0a-4682-8d6f-06fdc76a95b4",
   "metadata": {},
   "outputs": [
    {
     "name": "stdout",
     "output_type": "stream",
     "text": [
      "python\n"
     ]
    }
   ],
   "source": [
    "print (name)\n",
    "# when we print we will not able to see"
   ]
  },
  {
   "cell_type": "code",
   "execution_count": 9,
   "id": "2c99ac0d-234e-4332-9916-28577de6a865",
   "metadata": {},
   "outputs": [
    {
     "data": {
      "text/plain": [
       "'naresh it '"
      ]
     },
     "execution_count": 9,
     "metadata": {},
     "output_type": "execute_result"
    }
   ],
   "source": [
    "name =\"naresh it \"\n",
    "name \n",
    "# but the output displayed as single quotes "
   ]
  },
  {
   "cell_type": "code",
   "execution_count": 12,
   "id": "39f5c246-25dc-4e4a-b299-f23f1c150ae0",
   "metadata": {},
   "outputs": [
    {
     "name": "stdout",
     "output_type": "stream",
     "text": [
      "i love 'python'\n"
     ]
    }
   ],
   "source": [
    "str1=\"i love 'python'\"\n",
    "print(str1)"
   ]
  },
  {
   "cell_type": "markdown",
   "id": "fb865e53-bfa0-4b7f-972c-91da19fa449c",
   "metadata": {},
   "source": [
    "- keep entire string in double quotes then highlite the word with single quote vice  "
   ]
  },
  {
   "cell_type": "markdown",
   "id": "20ad8a68-452f-4509-8bb1-0807c0ae2ad8",
   "metadata": {},
   "source": [
    "### Triple quotes \n",
    " - triple quotes can not use in coding part\n",
    " - triple quotes mean conveying the information\n",
    " - this is process is called as **doc string**\n",
    " - in jupyter notebook we have markdowen option\n",
    " - but in vscode or pycharm there is no markdown option\n",
    " - so user will convey the information by providing triple quotes\n"
   ]
  },
  {
   "cell_type": "code",
   "execution_count": null,
   "id": "041659cb-a272-42c0-8d75-7e102fe1d093",
   "metadata": {},
   "outputs": [],
   "source": [
    "true= True #works \n",
    "true ='true'# w\n",
    "true=10.5  #w\n",
    "true=10\n",
    "true ="
   ]
  }
 ],
 "metadata": {
  "kernelspec": {
   "display_name": "Python 3 (ipykernel)",
   "language": "python",
   "name": "python3"
  },
  "language_info": {
   "codemirror_mode": {
    "name": "ipython",
    "version": 3
   },
   "file_extension": ".py",
   "mimetype": "text/x-python",
   "name": "python",
   "nbconvert_exporter": "python",
   "pygments_lexer": "ipython3",
   "version": "3.12.2"
  }
 },
 "nbformat": 4,
 "nbformat_minor": 5
}
